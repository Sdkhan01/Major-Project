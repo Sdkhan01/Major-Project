{
 "cells": [
  {
   "cell_type": "code",
   "execution_count": 5,
   "id": "initial_id",
   "metadata": {
    "collapsed": true,
    "ExecuteTime": {
     "end_time": "2024-03-09T10:01:51.640719400Z",
     "start_time": "2024-03-09T10:01:51.618452300Z"
    }
   },
   "outputs": [],
   "source": [
    "import numpy as np\n",
    "import pandas as pd\n",
    "import matplotlib.pyplot as plt\n",
    "import seaborn as sns\n",
    "import datetime as dt\n",
    "import joblib\n",
    "from sklearn.cluster import DBSCAN"
   ]
  },
  {
   "cell_type": "code",
   "outputs": [],
   "source": [],
   "metadata": {
    "collapsed": false
   },
   "id": "5cebcc80eb686a48"
  },
  {
   "cell_type": "code",
   "outputs": [
    {
     "data": {
      "text/plain": "     CustomerID   Amount  Frequency  Recency\n0       12395.0   346.10         12        1\n1       12427.0   303.50         10        2\n2       12431.0   358.25         14        4\n3       12433.0  1919.14         73        4\n4       12471.0   -17.00          1        3\n..          ...      ...        ...      ...\n314     18156.0   206.23         55        0\n315     18168.0   246.35         31        2\n316     18225.0   -31.80          1        2\n317     18229.0   344.20          7        3\n318     18239.0   438.10         29        2\n\n[319 rows x 4 columns]",
      "text/html": "<div>\n<style scoped>\n    .dataframe tbody tr th:only-of-type {\n        vertical-align: middle;\n    }\n\n    .dataframe tbody tr th {\n        vertical-align: top;\n    }\n\n    .dataframe thead th {\n        text-align: right;\n    }\n</style>\n<table border=\"1\" class=\"dataframe\">\n  <thead>\n    <tr style=\"text-align: right;\">\n      <th></th>\n      <th>CustomerID</th>\n      <th>Amount</th>\n      <th>Frequency</th>\n      <th>Recency</th>\n    </tr>\n  </thead>\n  <tbody>\n    <tr>\n      <th>0</th>\n      <td>12395.0</td>\n      <td>346.10</td>\n      <td>12</td>\n      <td>1</td>\n    </tr>\n    <tr>\n      <th>1</th>\n      <td>12427.0</td>\n      <td>303.50</td>\n      <td>10</td>\n      <td>2</td>\n    </tr>\n    <tr>\n      <th>2</th>\n      <td>12431.0</td>\n      <td>358.25</td>\n      <td>14</td>\n      <td>4</td>\n    </tr>\n    <tr>\n      <th>3</th>\n      <td>12433.0</td>\n      <td>1919.14</td>\n      <td>73</td>\n      <td>4</td>\n    </tr>\n    <tr>\n      <th>4</th>\n      <td>12471.0</td>\n      <td>-17.00</td>\n      <td>1</td>\n      <td>3</td>\n    </tr>\n    <tr>\n      <th>...</th>\n      <td>...</td>\n      <td>...</td>\n      <td>...</td>\n      <td>...</td>\n    </tr>\n    <tr>\n      <th>314</th>\n      <td>18156.0</td>\n      <td>206.23</td>\n      <td>55</td>\n      <td>0</td>\n    </tr>\n    <tr>\n      <th>315</th>\n      <td>18168.0</td>\n      <td>246.35</td>\n      <td>31</td>\n      <td>2</td>\n    </tr>\n    <tr>\n      <th>316</th>\n      <td>18225.0</td>\n      <td>-31.80</td>\n      <td>1</td>\n      <td>2</td>\n    </tr>\n    <tr>\n      <th>317</th>\n      <td>18229.0</td>\n      <td>344.20</td>\n      <td>7</td>\n      <td>3</td>\n    </tr>\n    <tr>\n      <th>318</th>\n      <td>18239.0</td>\n      <td>438.10</td>\n      <td>29</td>\n      <td>2</td>\n    </tr>\n  </tbody>\n</table>\n<p>319 rows × 4 columns</p>\n</div>"
     },
     "execution_count": 3,
     "metadata": {},
     "output_type": "execute_result"
    }
   ],
   "source": [
    "df = pd.read_csv('customer_data.csv')\n",
    "df\n"
   ],
   "metadata": {
    "collapsed": false,
    "ExecuteTime": {
     "end_time": "2024-01-28T06:50:07.736635Z",
     "start_time": "2024-01-28T06:50:07.699697800Z"
    }
   },
   "id": "1f2813fc19cf9be",
   "execution_count": 3
  },
  {
   "cell_type": "code",
   "outputs": [
    {
     "data": {
      "text/plain": "         count\nCluster       \n-1         105\n 0          76\n 3          51\n 2          45\n 1          15\n 4          10\n 5           8\n 7           5\n 6           4",
      "text/html": "<div>\n<style scoped>\n    .dataframe tbody tr th:only-of-type {\n        vertical-align: middle;\n    }\n\n    .dataframe tbody tr th {\n        vertical-align: top;\n    }\n\n    .dataframe thead th {\n        text-align: right;\n    }\n</style>\n<table border=\"1\" class=\"dataframe\">\n  <thead>\n    <tr style=\"text-align: right;\">\n      <th></th>\n      <th>count</th>\n    </tr>\n    <tr>\n      <th>Cluster</th>\n      <th></th>\n    </tr>\n  </thead>\n  <tbody>\n    <tr>\n      <th>-1</th>\n      <td>105</td>\n    </tr>\n    <tr>\n      <th>0</th>\n      <td>76</td>\n    </tr>\n    <tr>\n      <th>3</th>\n      <td>51</td>\n    </tr>\n    <tr>\n      <th>2</th>\n      <td>45</td>\n    </tr>\n    <tr>\n      <th>1</th>\n      <td>15</td>\n    </tr>\n    <tr>\n      <th>4</th>\n      <td>10</td>\n    </tr>\n    <tr>\n      <th>5</th>\n      <td>8</td>\n    </tr>\n    <tr>\n      <th>7</th>\n      <td>5</td>\n    </tr>\n    <tr>\n      <th>6</th>\n      <td>4</td>\n    </tr>\n  </tbody>\n</table>\n</div>"
     },
     "execution_count": 4,
     "metadata": {},
     "output_type": "execute_result"
    }
   ],
   "source": [
    "X_train = df[ ['Amount', 'Frequency', 'Recency']]\n",
    "clustering = DBSCAN(eps=12.5, min_samples=4).fit(X_train)\n",
    "DBSCAN_dataset = X_train.copy()\n",
    "DBSCAN_dataset.loc[:,'Cluster'] = clustering.labels_ \n",
    "DBSCAN_dataset.Cluster.value_counts().to_frame()"
   ],
   "metadata": {
    "collapsed": false,
    "ExecuteTime": {
     "end_time": "2024-01-28T06:51:00.644324600Z",
     "start_time": "2024-01-28T06:51:00.605135900Z"
    }
   },
   "id": "73d2b91d869c1873",
   "execution_count": 4
  },
  {
   "cell_type": "code",
   "outputs": [
    {
     "data": {
      "text/plain": "DBSCAN(eps=12.5, min_samples=4)",
      "text/html": "<style>#sk-container-id-1 {color: black;}#sk-container-id-1 pre{padding: 0;}#sk-container-id-1 div.sk-toggleable {background-color: white;}#sk-container-id-1 label.sk-toggleable__label {cursor: pointer;display: block;width: 100%;margin-bottom: 0;padding: 0.3em;box-sizing: border-box;text-align: center;}#sk-container-id-1 label.sk-toggleable__label-arrow:before {content: \"▸\";float: left;margin-right: 0.25em;color: #696969;}#sk-container-id-1 label.sk-toggleable__label-arrow:hover:before {color: black;}#sk-container-id-1 div.sk-estimator:hover label.sk-toggleable__label-arrow:before {color: black;}#sk-container-id-1 div.sk-toggleable__content {max-height: 0;max-width: 0;overflow: hidden;text-align: left;background-color: #f0f8ff;}#sk-container-id-1 div.sk-toggleable__content pre {margin: 0.2em;color: black;border-radius: 0.25em;background-color: #f0f8ff;}#sk-container-id-1 input.sk-toggleable__control:checked~div.sk-toggleable__content {max-height: 200px;max-width: 100%;overflow: auto;}#sk-container-id-1 input.sk-toggleable__control:checked~label.sk-toggleable__label-arrow:before {content: \"▾\";}#sk-container-id-1 div.sk-estimator input.sk-toggleable__control:checked~label.sk-toggleable__label {background-color: #d4ebff;}#sk-container-id-1 div.sk-label input.sk-toggleable__control:checked~label.sk-toggleable__label {background-color: #d4ebff;}#sk-container-id-1 input.sk-hidden--visually {border: 0;clip: rect(1px 1px 1px 1px);clip: rect(1px, 1px, 1px, 1px);height: 1px;margin: -1px;overflow: hidden;padding: 0;position: absolute;width: 1px;}#sk-container-id-1 div.sk-estimator {font-family: monospace;background-color: #f0f8ff;border: 1px dotted black;border-radius: 0.25em;box-sizing: border-box;margin-bottom: 0.5em;}#sk-container-id-1 div.sk-estimator:hover {background-color: #d4ebff;}#sk-container-id-1 div.sk-parallel-item::after {content: \"\";width: 100%;border-bottom: 1px solid gray;flex-grow: 1;}#sk-container-id-1 div.sk-label:hover label.sk-toggleable__label {background-color: #d4ebff;}#sk-container-id-1 div.sk-serial::before {content: \"\";position: absolute;border-left: 1px solid gray;box-sizing: border-box;top: 0;bottom: 0;left: 50%;z-index: 0;}#sk-container-id-1 div.sk-serial {display: flex;flex-direction: column;align-items: center;background-color: white;padding-right: 0.2em;padding-left: 0.2em;position: relative;}#sk-container-id-1 div.sk-item {position: relative;z-index: 1;}#sk-container-id-1 div.sk-parallel {display: flex;align-items: stretch;justify-content: center;background-color: white;position: relative;}#sk-container-id-1 div.sk-item::before, #sk-container-id-1 div.sk-parallel-item::before {content: \"\";position: absolute;border-left: 1px solid gray;box-sizing: border-box;top: 0;bottom: 0;left: 50%;z-index: -1;}#sk-container-id-1 div.sk-parallel-item {display: flex;flex-direction: column;z-index: 1;position: relative;background-color: white;}#sk-container-id-1 div.sk-parallel-item:first-child::after {align-self: flex-end;width: 50%;}#sk-container-id-1 div.sk-parallel-item:last-child::after {align-self: flex-start;width: 50%;}#sk-container-id-1 div.sk-parallel-item:only-child::after {width: 0;}#sk-container-id-1 div.sk-dashed-wrapped {border: 1px dashed gray;margin: 0 0.4em 0.5em 0.4em;box-sizing: border-box;padding-bottom: 0.4em;background-color: white;}#sk-container-id-1 div.sk-label label {font-family: monospace;font-weight: bold;display: inline-block;line-height: 1.2em;}#sk-container-id-1 div.sk-label-container {text-align: center;}#sk-container-id-1 div.sk-container {/* jupyter's `normalize.less` sets `[hidden] { display: none; }` but bootstrap.min.css set `[hidden] { display: none !important; }` so we also need the `!important` here to be able to override the default hidden behavior on the sphinx rendered scikit-learn.org. See: https://github.com/scikit-learn/scikit-learn/issues/21755 */display: inline-block !important;position: relative;}#sk-container-id-1 div.sk-text-repr-fallback {display: none;}</style><div id=\"sk-container-id-1\" class=\"sk-top-container\"><div class=\"sk-text-repr-fallback\"><pre>DBSCAN(eps=12.5, min_samples=4)</pre><b>In a Jupyter environment, please rerun this cell to show the HTML representation or trust the notebook. <br />On GitHub, the HTML representation is unable to render, please try loading this page with nbviewer.org.</b></div><div class=\"sk-container\" hidden><div class=\"sk-item\"><div class=\"sk-estimator sk-toggleable\"><input class=\"sk-toggleable__control sk-hidden--visually\" id=\"sk-estimator-id-1\" type=\"checkbox\" checked><label for=\"sk-estimator-id-1\" class=\"sk-toggleable__label sk-toggleable__label-arrow\">DBSCAN</label><div class=\"sk-toggleable__content\"><pre>DBSCAN(eps=12.5, min_samples=4)</pre></div></div></div></div></div>"
     },
     "execution_count": 6,
     "metadata": {},
     "output_type": "execute_result"
    }
   ],
   "source": [
    "clustering"
   ],
   "metadata": {
    "collapsed": false,
    "ExecuteTime": {
     "end_time": "2024-01-28T06:52:43.853967600Z",
     "start_time": "2024-01-28T06:52:43.791959500Z"
    }
   },
   "id": "5183a096ebfad6f1",
   "execution_count": 6
  },
  {
   "cell_type": "code",
   "outputs": [
    {
     "data": {
      "text/plain": "['dbscan_trained.pkl']"
     },
     "execution_count": 7,
     "metadata": {},
     "output_type": "execute_result"
    }
   ],
   "source": [
    "import joblib\n",
    "joblib.dump(clustering, 'dbscan_trained.pkl')"
   ],
   "metadata": {
    "collapsed": false,
    "ExecuteTime": {
     "end_time": "2024-01-28T06:53:02.245395900Z",
     "start_time": "2024-01-28T06:53:02.194856Z"
    }
   },
   "id": "c2263643a2bb8dae",
   "execution_count": 7
  },
  {
   "cell_type": "code",
   "outputs": [],
   "source": [
    "#  make a prediction with help of function, the function will return the df with grouping info when a csv file is passed\n",
    "def make_prediction(file_path, eps=12.5, min_samples=4):\n",
    "    df = pd.read_csv(file_path)\n",
    "    clustering = joblib.load('dbscan_trained.pkl')\n",
    "    X_train = df[ ['Amount', 'Frequency', 'Recency']]\n",
    "    clustering = DBSCAN(eps=eps, min_samples=min_samples).fit(X_train)\n",
    "    DBSCAN_dataset = X_train.copy()\n",
    "    DBSCAN_dataset.loc[:,'Cluster'] = clustering.labels_ \n",
    "    return DBSCAN_dataset"
   ],
   "metadata": {
    "collapsed": false,
    "ExecuteTime": {
     "end_time": "2024-03-09T10:02:33.433470Z",
     "start_time": "2024-03-09T10:02:33.380764700Z"
    }
   },
   "id": "d0fd3ecb17cd8bda",
   "execution_count": 8
  },
  {
   "cell_type": "code",
   "outputs": [
    {
     "data": {
      "text/plain": "      Amount  Frequency  Recency  Cluster\n0     346.10         12        1        0\n1     303.50         10        2        0\n2     358.25         14        4        0\n3    1919.14         73        4       -1\n4     -17.00          1        3        1\n..       ...        ...      ...      ...\n314   206.23         55        0        7\n315   246.35         31        2       -1\n316   -31.80          1        2        1\n317   344.20          7        3        0\n318   438.10         29        2        4\n\n[319 rows x 4 columns]",
      "text/html": "<div>\n<style scoped>\n    .dataframe tbody tr th:only-of-type {\n        vertical-align: middle;\n    }\n\n    .dataframe tbody tr th {\n        vertical-align: top;\n    }\n\n    .dataframe thead th {\n        text-align: right;\n    }\n</style>\n<table border=\"1\" class=\"dataframe\">\n  <thead>\n    <tr style=\"text-align: right;\">\n      <th></th>\n      <th>Amount</th>\n      <th>Frequency</th>\n      <th>Recency</th>\n      <th>Cluster</th>\n    </tr>\n  </thead>\n  <tbody>\n    <tr>\n      <th>0</th>\n      <td>346.10</td>\n      <td>12</td>\n      <td>1</td>\n      <td>0</td>\n    </tr>\n    <tr>\n      <th>1</th>\n      <td>303.50</td>\n      <td>10</td>\n      <td>2</td>\n      <td>0</td>\n    </tr>\n    <tr>\n      <th>2</th>\n      <td>358.25</td>\n      <td>14</td>\n      <td>4</td>\n      <td>0</td>\n    </tr>\n    <tr>\n      <th>3</th>\n      <td>1919.14</td>\n      <td>73</td>\n      <td>4</td>\n      <td>-1</td>\n    </tr>\n    <tr>\n      <th>4</th>\n      <td>-17.00</td>\n      <td>1</td>\n      <td>3</td>\n      <td>1</td>\n    </tr>\n    <tr>\n      <th>...</th>\n      <td>...</td>\n      <td>...</td>\n      <td>...</td>\n      <td>...</td>\n    </tr>\n    <tr>\n      <th>314</th>\n      <td>206.23</td>\n      <td>55</td>\n      <td>0</td>\n      <td>7</td>\n    </tr>\n    <tr>\n      <th>315</th>\n      <td>246.35</td>\n      <td>31</td>\n      <td>2</td>\n      <td>-1</td>\n    </tr>\n    <tr>\n      <th>316</th>\n      <td>-31.80</td>\n      <td>1</td>\n      <td>2</td>\n      <td>1</td>\n    </tr>\n    <tr>\n      <th>317</th>\n      <td>344.20</td>\n      <td>7</td>\n      <td>3</td>\n      <td>0</td>\n    </tr>\n    <tr>\n      <th>318</th>\n      <td>438.10</td>\n      <td>29</td>\n      <td>2</td>\n      <td>4</td>\n    </tr>\n  </tbody>\n</table>\n<p>319 rows × 4 columns</p>\n</div>"
     },
     "execution_count": 9,
     "metadata": {},
     "output_type": "execute_result"
    }
   ],
   "source": [
    "make_prediction('customer_data.csv')"
   ],
   "metadata": {
    "collapsed": false,
    "ExecuteTime": {
     "end_time": "2024-03-09T10:02:35.516919600Z",
     "start_time": "2024-03-09T10:02:35.481883900Z"
    }
   },
   "id": "a3a0451754f1e5eb",
   "execution_count": 9
  },
  {
   "cell_type": "code",
   "outputs": [],
   "source": [],
   "metadata": {
    "collapsed": false
   },
   "id": "e0b2792693bbd8a4"
  }
 ],
 "metadata": {
  "kernelspec": {
   "display_name": "Python 3",
   "language": "python",
   "name": "python3"
  },
  "language_info": {
   "codemirror_mode": {
    "name": "ipython",
    "version": 2
   },
   "file_extension": ".py",
   "mimetype": "text/x-python",
   "name": "python",
   "nbconvert_exporter": "python",
   "pygments_lexer": "ipython2",
   "version": "2.7.6"
  }
 },
 "nbformat": 4,
 "nbformat_minor": 5
}
