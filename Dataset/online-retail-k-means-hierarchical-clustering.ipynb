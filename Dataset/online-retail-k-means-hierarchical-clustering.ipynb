{
 "nbformat": 4,
 "nbformat_minor": 0,
 "metadata": {
  "kernelspec": {
   "display_name": "Python 3",
   "language": "python",
   "name": "python3"
  },
  "language_info": {
   "codemirror_mode": {
    "name": "ipython",
    "version": 3
   },
   "file_extension": ".py",
   "mimetype": "text/x-python",
   "name": "python",
   "nbconvert_exporter": "python",
   "pygments_lexer": "ipython3",
   "version": "3.6.6"
  },
  "colab": {
   "name": "online-retail-k-means-hierarchical-clustering.ipynb",
   "provenance": [],
   "collapsed_sections": []
  }
 },
 "cells": [
  {
   "cell_type": "markdown",
   "metadata": {
    "id": "tzCNCWSxtTC_",
    "colab_type": "text"
   },
   "source": [
    "![](https://www.finplus.co.in/wp-content/uploads/2017/10/Top-Categories-In-Online-Retail-In-India.jpg)"
   ]
  },
  {
   "cell_type": "code",
   "metadata": {
    "id": "1JlKUpszx8Dc",
    "colab_type": "code",
    "outputId": "b962feda-04f1-45bc-e806-e4846fc819af",
    "executionInfo": {
     "status": "ok",
     "timestamp": 1577037897534,
     "user_tz": -330,
     "elapsed": 55433,
     "user": {
      "displayName": "StormlightX",
      "photoUrl": "https://lh3.googleusercontent.com/a-/AAuE7mA7ffNh8zYCrByq7g6_RvAY6-iNKnGtjnQd5jEkklA=s64",
      "userId": "04862885639735295114"
     }
    },
    "colab": {
     "base_uri": "https://localhost:8080/",
     "height": 122
    },
    "ExecuteTime": {
     "end_time": "2024-01-28T06:04:39.561428500Z",
     "start_time": "2024-01-28T06:04:39.537374800Z"
    }
   },
   "source": [],
   "execution_count": null,
   "outputs": []
  },
  {
   "cell_type": "markdown",
   "metadata": {
    "id": "15A6aCvDtTDC",
    "colab_type": "text"
   },
   "source": [
    "## Overview\n",
    "<a href=\"https://archive.ics.uci.edu/ml/datasets/online+retail\">Online retail is a transnational data set</a> which contains all the transactions occurring between 01/12/2010 and 09/12/2011 for a UK-based and registered non-store online retail. The company mainly sells unique all-occasion gifts. Many customers of the company are wholesalers.\n",
    "\n",
    "## Goal\n",
    "We aim to segement the Customers based on (repeat freq measure) RFM so that the company can target its customers efficiently.\n",
    "\n",
    "#### The steps are broadly divided into:\n",
    "\n",
    "1. [Step 1: Reading and Understanding the Data](#1)\n",
    "1. [Step 2: Data Cleansing](#2)\n",
    "1. [Step 3: Data Preparation](#3)\n",
    "1. [Step 4: Model Building](#4)\n",
    "1. [Step 5: Final Analysis](#5)"
   ]
  },
  {
   "cell_type": "markdown",
   "metadata": {
    "id": "kjjOyVlrtTDG",
    "colab_type": "text"
   },
   "source": [
    "<a id=\"1\"></a> <br>\n",
    "## Step 1 : Reading and Understanding Data"
   ]
  },
  {
   "cell_type": "code",
   "outputs": [],
   "source": [
    "# import required libraries for dataframe and visualization\n",
    "\n",
    "import numpy as np\n",
    "import pandas as pd\n",
    "import matplotlib.pyplot as plt\n",
    "import seaborn as sns\n",
    "import datetime as dt\n",
    "\n",
    "# import required libraries for clustering\n",
    "import sklearn\n",
    "\n",
    "from sklearn.preprocessing import StandardScaler\n",
    "from sklearn.cluster import KMeans\n",
    "from sklearn.metrics import silhouette_score"
   ],
   "metadata": {
    "collapsed": false,
    "ExecuteTime": {
     "end_time": "2024-01-28T06:49:50.922668500Z",
     "start_time": "2024-01-28T06:49:50.898569100Z"
    }
   },
   "execution_count": 57
  },
  {
   "cell_type": "code",
   "outputs": [
    {
     "data": {
      "text/plain": "  InvoiceNo StockCode                          Description  Quantity  \\\n0    536365    85123A   WHITE HANGING HEART T-LIGHT HOLDER         6   \n1    536365     71053                  WHITE METAL LANTERN         6   \n2    536365    84406B       CREAM CUPID HEARTS COAT HANGER         8   \n3    536365    84029G  KNITTED UNION FLAG HOT WATER BOTTLE         6   \n4    536365    84029E       RED WOOLLY HOTTIE WHITE HEART.         6   \n\n          InvoiceDate  UnitPrice  CustomerID         Country  \n0 2010-12-01 08:26:00       2.55     17850.0  United Kingdom  \n1 2010-12-01 08:26:00       3.39     17850.0  United Kingdom  \n2 2010-12-01 08:26:00       2.75     17850.0  United Kingdom  \n3 2010-12-01 08:26:00       3.39     17850.0  United Kingdom  \n4 2010-12-01 08:26:00       3.39     17850.0  United Kingdom  ",
      "text/html": "<div>\n<style scoped>\n    .dataframe tbody tr th:only-of-type {\n        vertical-align: middle;\n    }\n\n    .dataframe tbody tr th {\n        vertical-align: top;\n    }\n\n    .dataframe thead th {\n        text-align: right;\n    }\n</style>\n<table border=\"1\" class=\"dataframe\">\n  <thead>\n    <tr style=\"text-align: right;\">\n      <th></th>\n      <th>InvoiceNo</th>\n      <th>StockCode</th>\n      <th>Description</th>\n      <th>Quantity</th>\n      <th>InvoiceDate</th>\n      <th>UnitPrice</th>\n      <th>CustomerID</th>\n      <th>Country</th>\n    </tr>\n  </thead>\n  <tbody>\n    <tr>\n      <th>0</th>\n      <td>536365</td>\n      <td>85123A</td>\n      <td>WHITE HANGING HEART T-LIGHT HOLDER</td>\n      <td>6</td>\n      <td>2010-12-01 08:26:00</td>\n      <td>2.55</td>\n      <td>17850.0</td>\n      <td>United Kingdom</td>\n    </tr>\n    <tr>\n      <th>1</th>\n      <td>536365</td>\n      <td>71053</td>\n      <td>WHITE METAL LANTERN</td>\n      <td>6</td>\n      <td>2010-12-01 08:26:00</td>\n      <td>3.39</td>\n      <td>17850.0</td>\n      <td>United Kingdom</td>\n    </tr>\n    <tr>\n      <th>2</th>\n      <td>536365</td>\n      <td>84406B</td>\n      <td>CREAM CUPID HEARTS COAT HANGER</td>\n      <td>8</td>\n      <td>2010-12-01 08:26:00</td>\n      <td>2.75</td>\n      <td>17850.0</td>\n      <td>United Kingdom</td>\n    </tr>\n    <tr>\n      <th>3</th>\n      <td>536365</td>\n      <td>84029G</td>\n      <td>KNITTED UNION FLAG HOT WATER BOTTLE</td>\n      <td>6</td>\n      <td>2010-12-01 08:26:00</td>\n      <td>3.39</td>\n      <td>17850.0</td>\n      <td>United Kingdom</td>\n    </tr>\n    <tr>\n      <th>4</th>\n      <td>536365</td>\n      <td>84029E</td>\n      <td>RED WOOLLY HOTTIE WHITE HEART.</td>\n      <td>6</td>\n      <td>2010-12-01 08:26:00</td>\n      <td>3.39</td>\n      <td>17850.0</td>\n      <td>United Kingdom</td>\n    </tr>\n  </tbody>\n</table>\n</div>"
     },
     "execution_count": 58,
     "metadata": {},
     "output_type": "execute_result"
    }
   ],
   "source": [
    "# Reading the data on which analysis needs to be done\n",
    "file_path = \"Online Retail.xlsx\"\n",
    "retail = pd.read_excel(file_path, nrows=10000)\n",
    "retail.head()"
   ],
   "metadata": {
    "collapsed": false,
    "ExecuteTime": {
     "end_time": "2024-01-28T06:49:54.628624500Z",
     "start_time": "2024-01-28T06:49:51.156531800Z"
    }
   },
   "execution_count": 58
  },
  {
   "cell_type": "code",
   "metadata": {
    "id": "3BAaD--BtTDT",
    "colab_type": "code",
    "outputId": "5f8a3ce4-e96c-40bb-ccd1-a3c0c0462871",
    "executionInfo": {
     "status": "ok",
     "timestamp": 1577038349371,
     "user_tz": -330,
     "elapsed": 535,
     "user": {
      "displayName": "StormlightX",
      "photoUrl": "https://lh3.googleusercontent.com/a-/AAuE7mA7ffNh8zYCrByq7g6_RvAY6-iNKnGtjnQd5jEkklA=s64",
      "userId": "04862885639735295114"
     }
    },
    "colab": {
     "base_uri": "https://localhost:8080/",
     "height": 34
    },
    "ExecuteTime": {
     "end_time": "2024-01-28T06:49:54.741811600Z",
     "start_time": "2024-01-28T06:49:54.614997300Z"
    }
   },
   "source": [
    "# shape of df\n",
    "\n",
    "retail.shape"
   ],
   "execution_count": 59,
   "outputs": [
    {
     "data": {
      "text/plain": "(10000, 8)"
     },
     "execution_count": 59,
     "metadata": {},
     "output_type": "execute_result"
    }
   ]
  },
  {
   "cell_type": "code",
   "metadata": {
    "id": "U5BYdjHGy0D8",
    "colab_type": "code",
    "colab": {},
    "ExecuteTime": {
     "end_time": "2024-01-28T06:49:54.744408500Z",
     "start_time": "2024-01-28T06:49:54.645514300Z"
    }
   },
   "source": [],
   "execution_count": 59,
   "outputs": []
  },
  {
   "cell_type": "code",
   "metadata": {
    "id": "RIMNuIjVtTDX",
    "colab_type": "code",
    "outputId": "0546c74f-86fb-4488-f9f7-4b5747144926",
    "executionInfo": {
     "status": "ok",
     "timestamp": 1577038354192,
     "user_tz": -330,
     "elapsed": 1061,
     "user": {
      "displayName": "StormlightX",
      "photoUrl": "https://lh3.googleusercontent.com/a-/AAuE7mA7ffNh8zYCrByq7g6_RvAY6-iNKnGtjnQd5jEkklA=s64",
      "userId": "04862885639735295114"
     }
    },
    "colab": {
     "base_uri": "https://localhost:8080/",
     "height": 238
    },
    "ExecuteTime": {
     "end_time": "2024-01-28T06:49:54.776876900Z",
     "start_time": "2024-01-28T06:49:54.659863400Z"
    }
   },
   "source": [
    " # df info\n",
    "\n",
    "retail.info()"
   ],
   "execution_count": 60,
   "outputs": [
    {
     "name": "stdout",
     "output_type": "stream",
     "text": [
      "<class 'pandas.core.frame.DataFrame'>\n",
      "RangeIndex: 10000 entries, 0 to 9999\n",
      "Data columns (total 8 columns):\n",
      " #   Column       Non-Null Count  Dtype         \n",
      "---  ------       --------------  -----         \n",
      " 0   InvoiceNo    10000 non-null  object        \n",
      " 1   StockCode    10000 non-null  object        \n",
      " 2   Description  9958 non-null   object        \n",
      " 3   Quantity     10000 non-null  int64         \n",
      " 4   InvoiceDate  10000 non-null  datetime64[ns]\n",
      " 5   UnitPrice    10000 non-null  float64       \n",
      " 6   CustomerID   7709 non-null   float64       \n",
      " 7   Country      10000 non-null  object        \n",
      "dtypes: datetime64[ns](1), float64(2), int64(1), object(4)\n",
      "memory usage: 625.1+ KB\n"
     ]
    }
   ]
  },
  {
   "cell_type": "code",
   "metadata": {
    "id": "F6oCvwyRtTDa",
    "colab_type": "code",
    "outputId": "d952a974-8e48-4d48-c673-91de8227446a",
    "executionInfo": {
     "status": "ok",
     "timestamp": 1577038358446,
     "user_tz": -330,
     "elapsed": 1131,
     "user": {
      "displayName": "StormlightX",
      "photoUrl": "https://lh3.googleusercontent.com/a-/AAuE7mA7ffNh8zYCrByq7g6_RvAY6-iNKnGtjnQd5jEkklA=s64",
      "userId": "04862885639735295114"
     }
    },
    "colab": {
     "base_uri": "https://localhost:8080/",
     "height": 297
    },
    "ExecuteTime": {
     "end_time": "2024-01-28T06:49:54.961138300Z",
     "start_time": "2024-01-28T06:49:54.697055500Z"
    }
   },
   "source": [
    "# df description\n",
    "\n",
    "retail.describe()"
   ],
   "execution_count": 61,
   "outputs": [
    {
     "data": {
      "text/plain": "           Quantity                    InvoiceDate     UnitPrice    CustomerID\ncount  10000.000000                          10000  10000.000000   7709.000000\nmean       7.828600  2010-12-03 05:58:26.346000128      3.837412  15615.462576\nmin    -9360.000000            2010-12-01 08:26:00      0.000000  12395.000000\n25%        1.000000            2010-12-01 17:06:00      1.250000  14388.000000\n50%        2.000000            2010-12-02 18:08:00      2.510000  15605.000000\n75%        8.000000            2010-12-05 10:45:00      4.210000  17228.000000\nmax     2880.000000            2010-12-05 16:24:00    887.520000  18239.000000\nstd      104.322417                            NaN     14.310148   1756.540802",
      "text/html": "<div>\n<style scoped>\n    .dataframe tbody tr th:only-of-type {\n        vertical-align: middle;\n    }\n\n    .dataframe tbody tr th {\n        vertical-align: top;\n    }\n\n    .dataframe thead th {\n        text-align: right;\n    }\n</style>\n<table border=\"1\" class=\"dataframe\">\n  <thead>\n    <tr style=\"text-align: right;\">\n      <th></th>\n      <th>Quantity</th>\n      <th>InvoiceDate</th>\n      <th>UnitPrice</th>\n      <th>CustomerID</th>\n    </tr>\n  </thead>\n  <tbody>\n    <tr>\n      <th>count</th>\n      <td>10000.000000</td>\n      <td>10000</td>\n      <td>10000.000000</td>\n      <td>7709.000000</td>\n    </tr>\n    <tr>\n      <th>mean</th>\n      <td>7.828600</td>\n      <td>2010-12-03 05:58:26.346000128</td>\n      <td>3.837412</td>\n      <td>15615.462576</td>\n    </tr>\n    <tr>\n      <th>min</th>\n      <td>-9360.000000</td>\n      <td>2010-12-01 08:26:00</td>\n      <td>0.000000</td>\n      <td>12395.000000</td>\n    </tr>\n    <tr>\n      <th>25%</th>\n      <td>1.000000</td>\n      <td>2010-12-01 17:06:00</td>\n      <td>1.250000</td>\n      <td>14388.000000</td>\n    </tr>\n    <tr>\n      <th>50%</th>\n      <td>2.000000</td>\n      <td>2010-12-02 18:08:00</td>\n      <td>2.510000</td>\n      <td>15605.000000</td>\n    </tr>\n    <tr>\n      <th>75%</th>\n      <td>8.000000</td>\n      <td>2010-12-05 10:45:00</td>\n      <td>4.210000</td>\n      <td>17228.000000</td>\n    </tr>\n    <tr>\n      <th>max</th>\n      <td>2880.000000</td>\n      <td>2010-12-05 16:24:00</td>\n      <td>887.520000</td>\n      <td>18239.000000</td>\n    </tr>\n    <tr>\n      <th>std</th>\n      <td>104.322417</td>\n      <td>NaN</td>\n      <td>14.310148</td>\n      <td>1756.540802</td>\n    </tr>\n  </tbody>\n</table>\n</div>"
     },
     "execution_count": 61,
     "metadata": {},
     "output_type": "execute_result"
    }
   ]
  },
  {
   "cell_type": "markdown",
   "metadata": {
    "id": "IV1M8sZitTDf",
    "colab_type": "text"
   },
   "source": [
    "<a id=\"2\"></a> <br>\n",
    "## Step 2 : Data Cleansing"
   ]
  },
  {
   "cell_type": "code",
   "metadata": {
    "id": "miOt9-pBtTDg",
    "colab_type": "code",
    "outputId": "28fa418a-05cf-45f2-b4a8-2eef2da98d84",
    "executionInfo": {
     "status": "ok",
     "timestamp": 1577038360169,
     "user_tz": -330,
     "elapsed": 1217,
     "user": {
      "displayName": "StormlightX",
      "photoUrl": "https://lh3.googleusercontent.com/a-/AAuE7mA7ffNh8zYCrByq7g6_RvAY6-iNKnGtjnQd5jEkklA=s64",
      "userId": "04862885639735295114"
     }
    },
    "colab": {
     "base_uri": "https://localhost:8080/",
     "height": 170
    },
    "ExecuteTime": {
     "end_time": "2024-01-28T06:49:54.966777400Z",
     "start_time": "2024-01-28T06:49:54.740727Z"
    }
   },
   "source": [
    "# Calculating the Missing Values % contribution in DF\n",
    "\n",
    "df_null = round(100 * (retail.isnull().sum()) / len(retail), 2)\n",
    "df_null"
   ],
   "execution_count": 62,
   "outputs": [
    {
     "data": {
      "text/plain": "InvoiceNo       0.00\nStockCode       0.00\nDescription     0.42\nQuantity        0.00\nInvoiceDate     0.00\nUnitPrice       0.00\nCustomerID     22.91\nCountry         0.00\ndtype: float64"
     },
     "execution_count": 62,
     "metadata": {},
     "output_type": "execute_result"
    }
   ]
  },
  {
   "cell_type": "code",
   "metadata": {
    "id": "Wfq4BEHHtTDk",
    "colab_type": "code",
    "outputId": "4a61f0d2-3a10-4b1b-e55f-df2c0ae69093",
    "executionInfo": {
     "status": "ok",
     "timestamp": 1577038360783,
     "user_tz": -330,
     "elapsed": 1224,
     "user": {
      "displayName": "StormlightX",
      "photoUrl": "https://lh3.googleusercontent.com/a-/AAuE7mA7ffNh8zYCrByq7g6_RvAY6-iNKnGtjnQd5jEkklA=s64",
      "userId": "04862885639735295114"
     }
    },
    "colab": {
     "base_uri": "https://localhost:8080/",
     "height": 34
    },
    "ExecuteTime": {
     "end_time": "2024-01-28T06:49:55.047636100Z",
     "start_time": "2024-01-28T06:49:54.768411400Z"
    }
   },
   "source": [
    "# Droping rows having missing values\n",
    "\n",
    "retail = retail.dropna()\n",
    "retail.shape\n"
   ],
   "execution_count": 63,
   "outputs": [
    {
     "data": {
      "text/plain": "(7709, 8)"
     },
     "execution_count": 63,
     "metadata": {},
     "output_type": "execute_result"
    }
   ]
  },
  {
   "cell_type": "code",
   "metadata": {
    "id": "W8iogIjTtTDo",
    "colab_type": "code",
    "colab": {},
    "ExecuteTime": {
     "end_time": "2024-01-28T06:49:55.081140200Z",
     "start_time": "2024-01-28T06:49:54.798338400Z"
    }
   },
   "source": [
    "# Changing the datatype of Customer Id as per Business understanding\n",
    "retail['CustomerID'] = retail['CustomerID'].astype(str)"
   ],
   "execution_count": 64,
   "outputs": []
  },
  {
   "cell_type": "markdown",
   "metadata": {
    "id": "g-XYXwbPtTDr",
    "colab_type": "text"
   },
   "source": [
    "<a id=\"3\"></a> <br>\n",
    "## Step 3 : Data Preparation"
   ]
  },
  {
   "cell_type": "markdown",
   "metadata": {
    "id": "6TYygnlstTDs",
    "colab_type": "text"
   },
   "source": [
    "#### We are going to analysis the Customers based on below 3 factors:\n",
    "- R (Recency): Number of days since last purchase\n",
    "- F (Frequency): Number of tracsactions\n",
    "- M (Monetary): Total amount of transactions (revenue contributed)"
   ]
  },
  {
   "cell_type": "code",
   "outputs": [],
   "source": [
    "retail['Quantity'].fillna(0, inplace=True)\n",
    "retail['UnitPrice'].fillna(0, inplace=True)\n",
    "\n",
    "# Convert columns to numeric\n",
    "retail['Quantity'] = pd.to_numeric(retail['Quantity'], errors='coerce')\n",
    "retail['UnitPrice'] = pd.to_numeric(retail['UnitPrice'], errors='coerce')\n",
    "\n",
    "# Create the 'Amount' column\n",
    "retail['Amount'] = retail['Quantity'] * retail['UnitPrice']"
   ],
   "metadata": {
    "collapsed": false,
    "ExecuteTime": {
     "end_time": "2024-01-28T06:49:55.083368700Z",
     "start_time": "2024-01-28T06:49:54.819705400Z"
    }
   },
   "execution_count": 65
  },
  {
   "cell_type": "code",
   "metadata": {
    "id": "v90zm0t6tTDt",
    "colab_type": "code",
    "outputId": "ba6550da-053f-44df-e580-84f41ab9bfcb",
    "executionInfo": {
     "status": "ok",
     "timestamp": 1577038363299,
     "user_tz": -330,
     "elapsed": 1198,
     "user": {
      "displayName": "StormlightX",
      "photoUrl": "https://lh3.googleusercontent.com/a-/AAuE7mA7ffNh8zYCrByq7g6_RvAY6-iNKnGtjnQd5jEkklA=s64",
      "userId": "04862885639735295114"
     }
    },
    "colab": {
     "base_uri": "https://localhost:8080/",
     "height": 204
    },
    "ExecuteTime": {
     "end_time": "2024-01-28T06:49:55.444895200Z",
     "start_time": "2024-01-28T06:49:55.109203400Z"
    }
   },
   "source": [
    "# New Attribute : Monetary\n",
    "\n",
    "retail['Amount'] = retail['Quantity'] * retail['UnitPrice']\n",
    "rfm_m = retail.groupby('CustomerID')['Amount'].sum()\n",
    "rfm_m = rfm_m.reset_index()\n",
    "rfm_m.head()"
   ],
   "execution_count": 66,
   "outputs": [
    {
     "data": {
      "text/plain": "  CustomerID   Amount\n0    12395.0   346.10\n1    12427.0   303.50\n2    12431.0   358.25\n3    12433.0  1919.14\n4    12471.0   -17.00",
      "text/html": "<div>\n<style scoped>\n    .dataframe tbody tr th:only-of-type {\n        vertical-align: middle;\n    }\n\n    .dataframe tbody tr th {\n        vertical-align: top;\n    }\n\n    .dataframe thead th {\n        text-align: right;\n    }\n</style>\n<table border=\"1\" class=\"dataframe\">\n  <thead>\n    <tr style=\"text-align: right;\">\n      <th></th>\n      <th>CustomerID</th>\n      <th>Amount</th>\n    </tr>\n  </thead>\n  <tbody>\n    <tr>\n      <th>0</th>\n      <td>12395.0</td>\n      <td>346.10</td>\n    </tr>\n    <tr>\n      <th>1</th>\n      <td>12427.0</td>\n      <td>303.50</td>\n    </tr>\n    <tr>\n      <th>2</th>\n      <td>12431.0</td>\n      <td>358.25</td>\n    </tr>\n    <tr>\n      <th>3</th>\n      <td>12433.0</td>\n      <td>1919.14</td>\n    </tr>\n    <tr>\n      <th>4</th>\n      <td>12471.0</td>\n      <td>-17.00</td>\n    </tr>\n  </tbody>\n</table>\n</div>"
     },
     "execution_count": 66,
     "metadata": {},
     "output_type": "execute_result"
    }
   ]
  },
  {
   "cell_type": "code",
   "metadata": {
    "id": "Bs1sgzDftTD1",
    "colab_type": "code",
    "outputId": "9e5f2c41-b756-4092-adca-911dabef1657",
    "executionInfo": {
     "status": "ok",
     "timestamp": 1577038365373,
     "user_tz": -330,
     "elapsed": 1332,
     "user": {
      "displayName": "StormlightX",
      "photoUrl": "https://lh3.googleusercontent.com/a-/AAuE7mA7ffNh8zYCrByq7g6_RvAY6-iNKnGtjnQd5jEkklA=s64",
      "userId": "04862885639735295114"
     }
    },
    "colab": {
     "base_uri": "https://localhost:8080/",
     "height": 204
    },
    "ExecuteTime": {
     "end_time": "2024-01-28T06:49:56.043982100Z",
     "start_time": "2024-01-28T06:49:55.667428200Z"
    }
   },
   "source": [
    "# New Attribute : Frequency\n",
    "\n",
    "rfm_f = retail.groupby('CustomerID')['InvoiceNo'].count()\n",
    "rfm_f = rfm_f.reset_index()\n",
    "rfm_f.columns = ['CustomerID', 'Frequency']\n",
    "rfm_f.head()"
   ],
   "execution_count": 67,
   "outputs": [
    {
     "data": {
      "text/plain": "  CustomerID  Frequency\n0    12395.0         12\n1    12427.0         10\n2    12431.0         14\n3    12433.0         73\n4    12471.0          1",
      "text/html": "<div>\n<style scoped>\n    .dataframe tbody tr th:only-of-type {\n        vertical-align: middle;\n    }\n\n    .dataframe tbody tr th {\n        vertical-align: top;\n    }\n\n    .dataframe thead th {\n        text-align: right;\n    }\n</style>\n<table border=\"1\" class=\"dataframe\">\n  <thead>\n    <tr style=\"text-align: right;\">\n      <th></th>\n      <th>CustomerID</th>\n      <th>Frequency</th>\n    </tr>\n  </thead>\n  <tbody>\n    <tr>\n      <th>0</th>\n      <td>12395.0</td>\n      <td>12</td>\n    </tr>\n    <tr>\n      <th>1</th>\n      <td>12427.0</td>\n      <td>10</td>\n    </tr>\n    <tr>\n      <th>2</th>\n      <td>12431.0</td>\n      <td>14</td>\n    </tr>\n    <tr>\n      <th>3</th>\n      <td>12433.0</td>\n      <td>73</td>\n    </tr>\n    <tr>\n      <th>4</th>\n      <td>12471.0</td>\n      <td>1</td>\n    </tr>\n  </tbody>\n</table>\n</div>"
     },
     "execution_count": 67,
     "metadata": {},
     "output_type": "execute_result"
    }
   ]
  },
  {
   "cell_type": "code",
   "metadata": {
    "scrolled": true,
    "id": "lgl26VTgtTD4",
    "colab_type": "code",
    "outputId": "56ea4712-e674-48be-f4e0-90413ea8f666",
    "executionInfo": {
     "status": "ok",
     "timestamp": 1577038366364,
     "user_tz": -330,
     "elapsed": 1098,
     "user": {
      "displayName": "StormlightX",
      "photoUrl": "https://lh3.googleusercontent.com/a-/AAuE7mA7ffNh8zYCrByq7g6_RvAY6-iNKnGtjnQd5jEkklA=s64",
      "userId": "04862885639735295114"
     }
    },
    "colab": {
     "base_uri": "https://localhost:8080/",
     "height": 204
    },
    "ExecuteTime": {
     "end_time": "2024-01-28T06:49:56.733807200Z",
     "start_time": "2024-01-28T06:49:56.577548Z"
    }
   },
   "source": [
    "# Merging the two dfs\n",
    "\n",
    "rfm = pd.merge(rfm_m, rfm_f, on='CustomerID', how='inner')\n",
    "rfm.head()"
   ],
   "execution_count": 68,
   "outputs": [
    {
     "data": {
      "text/plain": "  CustomerID   Amount  Frequency\n0    12395.0   346.10         12\n1    12427.0   303.50         10\n2    12431.0   358.25         14\n3    12433.0  1919.14         73\n4    12471.0   -17.00          1",
      "text/html": "<div>\n<style scoped>\n    .dataframe tbody tr th:only-of-type {\n        vertical-align: middle;\n    }\n\n    .dataframe tbody tr th {\n        vertical-align: top;\n    }\n\n    .dataframe thead th {\n        text-align: right;\n    }\n</style>\n<table border=\"1\" class=\"dataframe\">\n  <thead>\n    <tr style=\"text-align: right;\">\n      <th></th>\n      <th>CustomerID</th>\n      <th>Amount</th>\n      <th>Frequency</th>\n    </tr>\n  </thead>\n  <tbody>\n    <tr>\n      <th>0</th>\n      <td>12395.0</td>\n      <td>346.10</td>\n      <td>12</td>\n    </tr>\n    <tr>\n      <th>1</th>\n      <td>12427.0</td>\n      <td>303.50</td>\n      <td>10</td>\n    </tr>\n    <tr>\n      <th>2</th>\n      <td>12431.0</td>\n      <td>358.25</td>\n      <td>14</td>\n    </tr>\n    <tr>\n      <th>3</th>\n      <td>12433.0</td>\n      <td>1919.14</td>\n      <td>73</td>\n    </tr>\n    <tr>\n      <th>4</th>\n      <td>12471.0</td>\n      <td>-17.00</td>\n      <td>1</td>\n    </tr>\n  </tbody>\n</table>\n</div>"
     },
     "execution_count": 68,
     "metadata": {},
     "output_type": "execute_result"
    }
   ]
  },
  {
   "cell_type": "code",
   "outputs": [
    {
     "data": {
      "text/plain": "     InvoiceNo StockCode                          Description  Quantity  \\\n0       536365    85123A   WHITE HANGING HEART T-LIGHT HOLDER         6   \n1       536365     71053                  WHITE METAL LANTERN         6   \n2       536365    84406B       CREAM CUPID HEARTS COAT HANGER         8   \n3       536365    84029G  KNITTED UNION FLAG HOT WATER BOTTLE         6   \n4       536365    84029E       RED WOOLLY HOTTIE WHITE HEART.         6   \n...        ...       ...                                  ...       ...   \n9995    537224     22622       BOX OF VINTAGE ALPHABET BLOCKS         2   \n9996    537224     22623        BOX OF VINTAGE JIGSAW BLOCKS          2   \n9997    537224     21363              HOME SMALL WOOD LETTERS         2   \n9998    537224     21556         CERAMIC STRAWBERRY MONEY BOX         2   \n9999    537224     22497      SET OF 2 TINS VINTAGE BATHROOM          2   \n\n             InvoiceDate  UnitPrice CustomerID         Country  Amount  \n0    2010-12-01 08:26:00       2.55    17850.0  United Kingdom   15.30  \n1    2010-12-01 08:26:00       3.39    17850.0  United Kingdom   20.34  \n2    2010-12-01 08:26:00       2.75    17850.0  United Kingdom   22.00  \n3    2010-12-01 08:26:00       3.39    17850.0  United Kingdom   20.34  \n4    2010-12-01 08:26:00       3.39    17850.0  United Kingdom   20.34  \n...                  ...        ...        ...             ...     ...  \n9995 2010-12-05 16:24:00       9.95    13174.0  United Kingdom   19.90  \n9996 2010-12-05 16:24:00       4.95    13174.0  United Kingdom    9.90  \n9997 2010-12-05 16:24:00       4.95    13174.0  United Kingdom    9.90  \n9998 2010-12-05 16:24:00       2.55    13174.0  United Kingdom    5.10  \n9999 2010-12-05 16:24:00       4.25    13174.0  United Kingdom    8.50  \n\n[7709 rows x 9 columns]",
      "text/html": "<div>\n<style scoped>\n    .dataframe tbody tr th:only-of-type {\n        vertical-align: middle;\n    }\n\n    .dataframe tbody tr th {\n        vertical-align: top;\n    }\n\n    .dataframe thead th {\n        text-align: right;\n    }\n</style>\n<table border=\"1\" class=\"dataframe\">\n  <thead>\n    <tr style=\"text-align: right;\">\n      <th></th>\n      <th>InvoiceNo</th>\n      <th>StockCode</th>\n      <th>Description</th>\n      <th>Quantity</th>\n      <th>InvoiceDate</th>\n      <th>UnitPrice</th>\n      <th>CustomerID</th>\n      <th>Country</th>\n      <th>Amount</th>\n    </tr>\n  </thead>\n  <tbody>\n    <tr>\n      <th>0</th>\n      <td>536365</td>\n      <td>85123A</td>\n      <td>WHITE HANGING HEART T-LIGHT HOLDER</td>\n      <td>6</td>\n      <td>2010-12-01 08:26:00</td>\n      <td>2.55</td>\n      <td>17850.0</td>\n      <td>United Kingdom</td>\n      <td>15.30</td>\n    </tr>\n    <tr>\n      <th>1</th>\n      <td>536365</td>\n      <td>71053</td>\n      <td>WHITE METAL LANTERN</td>\n      <td>6</td>\n      <td>2010-12-01 08:26:00</td>\n      <td>3.39</td>\n      <td>17850.0</td>\n      <td>United Kingdom</td>\n      <td>20.34</td>\n    </tr>\n    <tr>\n      <th>2</th>\n      <td>536365</td>\n      <td>84406B</td>\n      <td>CREAM CUPID HEARTS COAT HANGER</td>\n      <td>8</td>\n      <td>2010-12-01 08:26:00</td>\n      <td>2.75</td>\n      <td>17850.0</td>\n      <td>United Kingdom</td>\n      <td>22.00</td>\n    </tr>\n    <tr>\n      <th>3</th>\n      <td>536365</td>\n      <td>84029G</td>\n      <td>KNITTED UNION FLAG HOT WATER BOTTLE</td>\n      <td>6</td>\n      <td>2010-12-01 08:26:00</td>\n      <td>3.39</td>\n      <td>17850.0</td>\n      <td>United Kingdom</td>\n      <td>20.34</td>\n    </tr>\n    <tr>\n      <th>4</th>\n      <td>536365</td>\n      <td>84029E</td>\n      <td>RED WOOLLY HOTTIE WHITE HEART.</td>\n      <td>6</td>\n      <td>2010-12-01 08:26:00</td>\n      <td>3.39</td>\n      <td>17850.0</td>\n      <td>United Kingdom</td>\n      <td>20.34</td>\n    </tr>\n    <tr>\n      <th>...</th>\n      <td>...</td>\n      <td>...</td>\n      <td>...</td>\n      <td>...</td>\n      <td>...</td>\n      <td>...</td>\n      <td>...</td>\n      <td>...</td>\n      <td>...</td>\n    </tr>\n    <tr>\n      <th>9995</th>\n      <td>537224</td>\n      <td>22622</td>\n      <td>BOX OF VINTAGE ALPHABET BLOCKS</td>\n      <td>2</td>\n      <td>2010-12-05 16:24:00</td>\n      <td>9.95</td>\n      <td>13174.0</td>\n      <td>United Kingdom</td>\n      <td>19.90</td>\n    </tr>\n    <tr>\n      <th>9996</th>\n      <td>537224</td>\n      <td>22623</td>\n      <td>BOX OF VINTAGE JIGSAW BLOCKS</td>\n      <td>2</td>\n      <td>2010-12-05 16:24:00</td>\n      <td>4.95</td>\n      <td>13174.0</td>\n      <td>United Kingdom</td>\n      <td>9.90</td>\n    </tr>\n    <tr>\n      <th>9997</th>\n      <td>537224</td>\n      <td>21363</td>\n      <td>HOME SMALL WOOD LETTERS</td>\n      <td>2</td>\n      <td>2010-12-05 16:24:00</td>\n      <td>4.95</td>\n      <td>13174.0</td>\n      <td>United Kingdom</td>\n      <td>9.90</td>\n    </tr>\n    <tr>\n      <th>9998</th>\n      <td>537224</td>\n      <td>21556</td>\n      <td>CERAMIC STRAWBERRY MONEY BOX</td>\n      <td>2</td>\n      <td>2010-12-05 16:24:00</td>\n      <td>2.55</td>\n      <td>13174.0</td>\n      <td>United Kingdom</td>\n      <td>5.10</td>\n    </tr>\n    <tr>\n      <th>9999</th>\n      <td>537224</td>\n      <td>22497</td>\n      <td>SET OF 2 TINS VINTAGE BATHROOM</td>\n      <td>2</td>\n      <td>2010-12-05 16:24:00</td>\n      <td>4.25</td>\n      <td>13174.0</td>\n      <td>United Kingdom</td>\n      <td>8.50</td>\n    </tr>\n  </tbody>\n</table>\n<p>7709 rows × 9 columns</p>\n</div>"
     },
     "execution_count": 69,
     "metadata": {},
     "output_type": "execute_result"
    }
   ],
   "source": [
    "retail"
   ],
   "metadata": {
    "collapsed": false,
    "ExecuteTime": {
     "end_time": "2024-01-28T06:49:57.523164500Z",
     "start_time": "2024-01-28T06:49:57.401387200Z"
    }
   },
   "execution_count": 69
  },
  {
   "cell_type": "code",
   "metadata": {
    "id": "w_Ef2Fm0tTD8",
    "colab_type": "code",
    "colab": {},
    "ExecuteTime": {
     "end_time": "2024-01-28T06:49:58.300065100Z",
     "start_time": "2024-01-28T06:49:58.132183800Z"
    }
   },
   "source": [
    "# New Attribute : Recency\n",
    "\n",
    "# Convert to datetime to proper datatype\n",
    "\n",
    "retail['InvoiceDate'] = pd.to_datetime(retail['InvoiceDate'], format='%d-%m-%Y %H:%M')"
   ],
   "execution_count": 70,
   "outputs": []
  },
  {
   "cell_type": "code",
   "metadata": {
    "id": "rXzWLVlJtTD_",
    "colab_type": "code",
    "outputId": "9ad57b57-684e-4203-c985-3998f8120806",
    "executionInfo": {
     "status": "ok",
     "timestamp": 1577038372564,
     "user_tz": -330,
     "elapsed": 1630,
     "user": {
      "displayName": "StormlightX",
      "photoUrl": "https://lh3.googleusercontent.com/a-/AAuE7mA7ffNh8zYCrByq7g6_RvAY6-iNKnGtjnQd5jEkklA=s64",
      "userId": "04862885639735295114"
     }
    },
    "colab": {
     "base_uri": "https://localhost:8080/",
     "height": 34
    },
    "ExecuteTime": {
     "end_time": "2024-01-28T06:49:58.785662900Z",
     "start_time": "2024-01-28T06:49:58.747523900Z"
    }
   },
   "source": [
    "# Compute the maximum date to know the last transaction date\n",
    "\n",
    "max_date = max(retail['InvoiceDate'])\n",
    "max_date"
   ],
   "execution_count": 71,
   "outputs": [
    {
     "data": {
      "text/plain": "Timestamp('2010-12-05 16:24:00')"
     },
     "execution_count": 71,
     "metadata": {},
     "output_type": "execute_result"
    }
   ]
  },
  {
   "cell_type": "code",
   "metadata": {
    "id": "6yoG-A13tTED",
    "colab_type": "code",
    "outputId": "9999e3ad-d012-4ccf-db6d-3f5cb98e3a54",
    "executionInfo": {
     "status": "ok",
     "timestamp": 1577038375611,
     "user_tz": -330,
     "elapsed": 1378,
     "user": {
      "displayName": "StormlightX",
      "photoUrl": "https://lh3.googleusercontent.com/a-/AAuE7mA7ffNh8zYCrByq7g6_RvAY6-iNKnGtjnQd5jEkklA=s64",
      "userId": "04862885639735295114"
     }
    },
    "colab": {
     "base_uri": "https://localhost:8080/",
     "height": 204
    },
    "ExecuteTime": {
     "end_time": "2024-01-28T06:49:59.243388900Z",
     "start_time": "2024-01-28T06:49:59.152152Z"
    }
   },
   "source": [
    "# Compute the difference between max date and transaction date\n",
    "\n",
    "retail['Diff'] = max_date - retail['InvoiceDate']\n",
    "retail.head()"
   ],
   "execution_count": 72,
   "outputs": [
    {
     "data": {
      "text/plain": "  InvoiceNo StockCode                          Description  Quantity  \\\n0    536365    85123A   WHITE HANGING HEART T-LIGHT HOLDER         6   \n1    536365     71053                  WHITE METAL LANTERN         6   \n2    536365    84406B       CREAM CUPID HEARTS COAT HANGER         8   \n3    536365    84029G  KNITTED UNION FLAG HOT WATER BOTTLE         6   \n4    536365    84029E       RED WOOLLY HOTTIE WHITE HEART.         6   \n\n          InvoiceDate  UnitPrice CustomerID         Country  Amount  \\\n0 2010-12-01 08:26:00       2.55    17850.0  United Kingdom   15.30   \n1 2010-12-01 08:26:00       3.39    17850.0  United Kingdom   20.34   \n2 2010-12-01 08:26:00       2.75    17850.0  United Kingdom   22.00   \n3 2010-12-01 08:26:00       3.39    17850.0  United Kingdom   20.34   \n4 2010-12-01 08:26:00       3.39    17850.0  United Kingdom   20.34   \n\n             Diff  \n0 4 days 07:58:00  \n1 4 days 07:58:00  \n2 4 days 07:58:00  \n3 4 days 07:58:00  \n4 4 days 07:58:00  ",
      "text/html": "<div>\n<style scoped>\n    .dataframe tbody tr th:only-of-type {\n        vertical-align: middle;\n    }\n\n    .dataframe tbody tr th {\n        vertical-align: top;\n    }\n\n    .dataframe thead th {\n        text-align: right;\n    }\n</style>\n<table border=\"1\" class=\"dataframe\">\n  <thead>\n    <tr style=\"text-align: right;\">\n      <th></th>\n      <th>InvoiceNo</th>\n      <th>StockCode</th>\n      <th>Description</th>\n      <th>Quantity</th>\n      <th>InvoiceDate</th>\n      <th>UnitPrice</th>\n      <th>CustomerID</th>\n      <th>Country</th>\n      <th>Amount</th>\n      <th>Diff</th>\n    </tr>\n  </thead>\n  <tbody>\n    <tr>\n      <th>0</th>\n      <td>536365</td>\n      <td>85123A</td>\n      <td>WHITE HANGING HEART T-LIGHT HOLDER</td>\n      <td>6</td>\n      <td>2010-12-01 08:26:00</td>\n      <td>2.55</td>\n      <td>17850.0</td>\n      <td>United Kingdom</td>\n      <td>15.30</td>\n      <td>4 days 07:58:00</td>\n    </tr>\n    <tr>\n      <th>1</th>\n      <td>536365</td>\n      <td>71053</td>\n      <td>WHITE METAL LANTERN</td>\n      <td>6</td>\n      <td>2010-12-01 08:26:00</td>\n      <td>3.39</td>\n      <td>17850.0</td>\n      <td>United Kingdom</td>\n      <td>20.34</td>\n      <td>4 days 07:58:00</td>\n    </tr>\n    <tr>\n      <th>2</th>\n      <td>536365</td>\n      <td>84406B</td>\n      <td>CREAM CUPID HEARTS COAT HANGER</td>\n      <td>8</td>\n      <td>2010-12-01 08:26:00</td>\n      <td>2.75</td>\n      <td>17850.0</td>\n      <td>United Kingdom</td>\n      <td>22.00</td>\n      <td>4 days 07:58:00</td>\n    </tr>\n    <tr>\n      <th>3</th>\n      <td>536365</td>\n      <td>84029G</td>\n      <td>KNITTED UNION FLAG HOT WATER BOTTLE</td>\n      <td>6</td>\n      <td>2010-12-01 08:26:00</td>\n      <td>3.39</td>\n      <td>17850.0</td>\n      <td>United Kingdom</td>\n      <td>20.34</td>\n      <td>4 days 07:58:00</td>\n    </tr>\n    <tr>\n      <th>4</th>\n      <td>536365</td>\n      <td>84029E</td>\n      <td>RED WOOLLY HOTTIE WHITE HEART.</td>\n      <td>6</td>\n      <td>2010-12-01 08:26:00</td>\n      <td>3.39</td>\n      <td>17850.0</td>\n      <td>United Kingdom</td>\n      <td>20.34</td>\n      <td>4 days 07:58:00</td>\n    </tr>\n  </tbody>\n</table>\n</div>"
     },
     "execution_count": 72,
     "metadata": {},
     "output_type": "execute_result"
    }
   ]
  },
  {
   "cell_type": "code",
   "metadata": {
    "id": "dHUTD9fPtTEG",
    "colab_type": "code",
    "outputId": "18fd5107-d3fd-4eed-e47e-a7f903dddb6d",
    "executionInfo": {
     "status": "ok",
     "timestamp": 1577038376396,
     "user_tz": -330,
     "elapsed": 1723,
     "user": {
      "displayName": "StormlightX",
      "photoUrl": "https://lh3.googleusercontent.com/a-/AAuE7mA7ffNh8zYCrByq7g6_RvAY6-iNKnGtjnQd5jEkklA=s64",
      "userId": "04862885639735295114"
     }
    },
    "colab": {
     "base_uri": "https://localhost:8080/",
     "height": 204
    },
    "ExecuteTime": {
     "end_time": "2024-01-28T06:49:59.736826600Z",
     "start_time": "2024-01-28T06:49:59.576141700Z"
    }
   },
   "source": [
    "# Compute last transaction date to get the recency of customers\n",
    "\n",
    "rfm_p = retail.groupby('CustomerID')['Diff'].min()\n",
    "rfm_p = rfm_p.reset_index()\n",
    "rfm_p.head()"
   ],
   "execution_count": 73,
   "outputs": [
    {
     "data": {
      "text/plain": "  CustomerID            Diff\n0    12395.0 1 days 23:49:00\n1    12427.0 2 days 05:40:00\n2    12431.0 4 days 06:21:00\n3    12433.0 4 days 03:00:00\n4    12471.0 3 days 05:47:00",
      "text/html": "<div>\n<style scoped>\n    .dataframe tbody tr th:only-of-type {\n        vertical-align: middle;\n    }\n\n    .dataframe tbody tr th {\n        vertical-align: top;\n    }\n\n    .dataframe thead th {\n        text-align: right;\n    }\n</style>\n<table border=\"1\" class=\"dataframe\">\n  <thead>\n    <tr style=\"text-align: right;\">\n      <th></th>\n      <th>CustomerID</th>\n      <th>Diff</th>\n    </tr>\n  </thead>\n  <tbody>\n    <tr>\n      <th>0</th>\n      <td>12395.0</td>\n      <td>1 days 23:49:00</td>\n    </tr>\n    <tr>\n      <th>1</th>\n      <td>12427.0</td>\n      <td>2 days 05:40:00</td>\n    </tr>\n    <tr>\n      <th>2</th>\n      <td>12431.0</td>\n      <td>4 days 06:21:00</td>\n    </tr>\n    <tr>\n      <th>3</th>\n      <td>12433.0</td>\n      <td>4 days 03:00:00</td>\n    </tr>\n    <tr>\n      <th>4</th>\n      <td>12471.0</td>\n      <td>3 days 05:47:00</td>\n    </tr>\n  </tbody>\n</table>\n</div>"
     },
     "execution_count": 73,
     "metadata": {},
     "output_type": "execute_result"
    }
   ]
  },
  {
   "cell_type": "code",
   "metadata": {
    "id": "qO30590_tTEK",
    "colab_type": "code",
    "outputId": "aa551e87-a117-428b-a114-318c37732af3",
    "executionInfo": {
     "status": "ok",
     "timestamp": 1577038376399,
     "user_tz": -330,
     "elapsed": 1415,
     "user": {
      "displayName": "StormlightX",
      "photoUrl": "https://lh3.googleusercontent.com/a-/AAuE7mA7ffNh8zYCrByq7g6_RvAY6-iNKnGtjnQd5jEkklA=s64",
      "userId": "04862885639735295114"
     }
    },
    "colab": {
     "base_uri": "https://localhost:8080/",
     "height": 204
    },
    "ExecuteTime": {
     "end_time": "2024-01-28T06:50:00.075037300Z",
     "start_time": "2024-01-28T06:49:59.996364600Z"
    }
   },
   "source": [
    "# Extract number of days only\n",
    "\n",
    "rfm_p['Diff'] = rfm_p['Diff'].dt.days\n",
    "rfm_p.head()"
   ],
   "execution_count": 74,
   "outputs": [
    {
     "data": {
      "text/plain": "  CustomerID  Diff\n0    12395.0     1\n1    12427.0     2\n2    12431.0     4\n3    12433.0     4\n4    12471.0     3",
      "text/html": "<div>\n<style scoped>\n    .dataframe tbody tr th:only-of-type {\n        vertical-align: middle;\n    }\n\n    .dataframe tbody tr th {\n        vertical-align: top;\n    }\n\n    .dataframe thead th {\n        text-align: right;\n    }\n</style>\n<table border=\"1\" class=\"dataframe\">\n  <thead>\n    <tr style=\"text-align: right;\">\n      <th></th>\n      <th>CustomerID</th>\n      <th>Diff</th>\n    </tr>\n  </thead>\n  <tbody>\n    <tr>\n      <th>0</th>\n      <td>12395.0</td>\n      <td>1</td>\n    </tr>\n    <tr>\n      <th>1</th>\n      <td>12427.0</td>\n      <td>2</td>\n    </tr>\n    <tr>\n      <th>2</th>\n      <td>12431.0</td>\n      <td>4</td>\n    </tr>\n    <tr>\n      <th>3</th>\n      <td>12433.0</td>\n      <td>4</td>\n    </tr>\n    <tr>\n      <th>4</th>\n      <td>12471.0</td>\n      <td>3</td>\n    </tr>\n  </tbody>\n</table>\n</div>"
     },
     "execution_count": 74,
     "metadata": {},
     "output_type": "execute_result"
    }
   ]
  },
  {
   "cell_type": "code",
   "metadata": {
    "id": "h5xEd7Y3tTEN",
    "colab_type": "code",
    "outputId": "dc1bc6cd-32e4-4577-8f14-d62d8b840675",
    "executionInfo": {
     "status": "ok",
     "timestamp": 1577038376400,
     "user_tz": -330,
     "elapsed": 1165,
     "user": {
      "displayName": "StormlightX",
      "photoUrl": "https://lh3.googleusercontent.com/a-/AAuE7mA7ffNh8zYCrByq7g6_RvAY6-iNKnGtjnQd5jEkklA=s64",
      "userId": "04862885639735295114"
     }
    },
    "colab": {
     "base_uri": "https://localhost:8080/",
     "height": 204
    },
    "ExecuteTime": {
     "end_time": "2024-01-28T06:50:00.991202600Z",
     "start_time": "2024-01-28T06:50:00.905973700Z"
    }
   },
   "source": [
    "# Merge tha dataframes to get the final RFM dataframe\n",
    "\n",
    "rfm = pd.merge(rfm, rfm_p, on='CustomerID', how='inner')\n",
    "rfm.columns = ['CustomerID', 'Amount', 'Frequency', 'Recency']\n",
    "rfm.head()"
   ],
   "execution_count": 75,
   "outputs": [
    {
     "data": {
      "text/plain": "  CustomerID   Amount  Frequency  Recency\n0    12395.0   346.10         12        1\n1    12427.0   303.50         10        2\n2    12431.0   358.25         14        4\n3    12433.0  1919.14         73        4\n4    12471.0   -17.00          1        3",
      "text/html": "<div>\n<style scoped>\n    .dataframe tbody tr th:only-of-type {\n        vertical-align: middle;\n    }\n\n    .dataframe tbody tr th {\n        vertical-align: top;\n    }\n\n    .dataframe thead th {\n        text-align: right;\n    }\n</style>\n<table border=\"1\" class=\"dataframe\">\n  <thead>\n    <tr style=\"text-align: right;\">\n      <th></th>\n      <th>CustomerID</th>\n      <th>Amount</th>\n      <th>Frequency</th>\n      <th>Recency</th>\n    </tr>\n  </thead>\n  <tbody>\n    <tr>\n      <th>0</th>\n      <td>12395.0</td>\n      <td>346.10</td>\n      <td>12</td>\n      <td>1</td>\n    </tr>\n    <tr>\n      <th>1</th>\n      <td>12427.0</td>\n      <td>303.50</td>\n      <td>10</td>\n      <td>2</td>\n    </tr>\n    <tr>\n      <th>2</th>\n      <td>12431.0</td>\n      <td>358.25</td>\n      <td>14</td>\n      <td>4</td>\n    </tr>\n    <tr>\n      <th>3</th>\n      <td>12433.0</td>\n      <td>1919.14</td>\n      <td>73</td>\n      <td>4</td>\n    </tr>\n    <tr>\n      <th>4</th>\n      <td>12471.0</td>\n      <td>-17.00</td>\n      <td>1</td>\n      <td>3</td>\n    </tr>\n  </tbody>\n</table>\n</div>"
     },
     "execution_count": 75,
     "metadata": {},
     "output_type": "execute_result"
    }
   ]
  },
  {
   "cell_type": "markdown",
   "metadata": {
    "id": "g6fVR72MtTER",
    "colab_type": "text"
   },
   "source": [
    "#### There are 2 types of outliers and we will treat outliers as it can skew our dataset\n",
    "- Statistical\n",
    "- Domain specific"
   ]
  },
  {
   "cell_type": "code",
   "metadata": {
    "id": "CwXDMLautTES",
    "colab_type": "code",
    "outputId": "5a9ad679-bf88-4b38-e7d9-8a37c6e97272",
    "executionInfo": {
     "status": "ok",
     "timestamp": 1577038377665,
     "user_tz": -330,
     "elapsed": 1807,
     "user": {
      "displayName": "StormlightX",
      "photoUrl": "https://lh3.googleusercontent.com/a-/AAuE7mA7ffNh8zYCrByq7g6_RvAY6-iNKnGtjnQd5jEkklA=s64",
      "userId": "04862885639735295114"
     }
    },
    "colab": {
     "base_uri": "https://localhost:8080/",
     "height": 531
    },
    "ExecuteTime": {
     "end_time": "2024-01-28T06:50:02.577274500Z",
     "start_time": "2024-01-28T06:50:02.006756500Z"
    }
   },
   "source": [
    "# Outlier Analysis of Amount Frequency and Recency\n",
    "\n",
    "attributes = ['Amount', 'Frequency', 'Recency']\n",
    "plt.rcParams['figure.figsize'] = [10, 8]\n",
    "sns.boxplot(data=rfm[attributes], orient=\"v\", palette=\"Set2\", whis=1.5, saturation=1, width=0.7)\n",
    "plt.title(\"Outliers Variable Distribution\", fontsize=14, fontweight='bold')\n",
    "plt.ylabel(\"Range\", fontweight='bold')\n",
    "plt.xlabel(\"Attributes\", fontweight='bold')"
   ],
   "execution_count": 76,
   "outputs": [
    {
     "data": {
      "text/plain": "Text(0.5, 0, 'Attributes')"
     },
     "execution_count": 76,
     "metadata": {},
     "output_type": "execute_result"
    },
    {
     "data": {
      "text/plain": "<Figure size 1000x800 with 1 Axes>",
      "image/png": "[encoded data removed]"
     },
     "metadata": {},
     "output_type": "display_data"
    }
   ]
  },
  {
   "cell_type": "code",
   "metadata": {
    "id": "vcaYynnPtTEZ",
    "colab_type": "code",
    "colab": {},
    "ExecuteTime": {
     "end_time": "2024-01-28T06:50:02.910393400Z",
     "start_time": "2024-01-28T06:50:02.798419800Z"
    }
   },
   "source": [
    "# Removing (statistical) outliers for Amount\n",
    "Q1 = rfm.Amount.quantile(0.05)\n",
    "Q3 = rfm.Amount.quantile(0.95)\n",
    "IQR = Q3 - Q1\n",
    "rfm = rfm[(rfm.Amount >= Q1 - 1.5 * IQR) & (rfm.Amount <= Q3 + 1.5 * IQR)]\n",
    "\n",
    "# Removing (statistical) outliers for Recency\n",
    "Q1 = rfm.Recency.quantile(0.05)\n",
    "Q3 = rfm.Recency.quantile(0.95)\n",
    "IQR = Q3 - Q1\n",
    "rfm = rfm[(rfm.Recency >= Q1 - 1.5 * IQR) & (rfm.Recency <= Q3 + 1.5 * IQR)]\n",
    "\n",
    "# Removing (statistical) outliers for Frequency\n",
    "Q1 = rfm.Frequency.quantile(0.05)\n",
    "Q3 = rfm.Frequency.quantile(0.95)\n",
    "IQR = Q3 - Q1\n",
    "rfm = rfm[(rfm.Frequency >= Q1 - 1.5 * IQR) & (rfm.Frequency <= Q3 + 1.5 * IQR)]"
   ],
   "execution_count": 77,
   "outputs": []
  },
  {
   "cell_type": "markdown",
   "metadata": {
    "id": "WD75BQ2GtTEe",
    "colab_type": "text"
   },
   "source": [
    "### Rescaling the Attributes\n",
    "\n",
    "It is extremely important to rescale the variables so that they have a comparable scale.|\n",
    "There are two common ways of rescaling:\n",
    "\n",
    "1. Min-Max scaling \n",
    "2. Standardisation (mean-0, sigma-1) \n",
    "\n",
    "Here, we will use Standardisation Scaling."
   ]
  },
  {
   "cell_type": "code",
   "outputs": [],
   "source": [
    "\n",
    "rfm.to_csv(\"customer_data.csv\", index=False)"
   ],
   "metadata": {
    "collapsed": false,
    "ExecuteTime": {
     "end_time": "2024-01-28T06:50:04.146856Z",
     "start_time": "2024-01-28T06:50:04.093440400Z"
    }
   },
   "execution_count": 78
  },
  {
   "cell_type": "code",
   "metadata": {
    "id": "IqbnziyDtTEf",
    "colab_type": "code",
    "outputId": "ce44c150-f429-49b8-ccb8-d1a24c527a59",
    "executionInfo": {
     "status": "ok",
     "timestamp": 1577038377667,
     "user_tz": -330,
     "elapsed": 947,
     "user": {
      "displayName": "StormlightX",
      "photoUrl": "https://lh3.googleusercontent.com/a-/AAuE7mA7ffNh8zYCrByq7g6_RvAY6-iNKnGtjnQd5jEkklA=s64",
      "userId": "04862885639735295114"
     }
    },
    "colab": {
     "base_uri": "https://localhost:8080/",
     "height": 34
    },
    "ExecuteTime": {
     "end_time": "2024-01-28T06:07:15.545229400Z",
     "start_time": "2024-01-28T06:07:15.457222400Z"
    }
   },
   "source": [
    "# Rescaling the attributes\n",
    "\n",
    "rfm_df = rfm[['Amount', 'Frequency', 'Recency']]\n",
    "\n",
    "# Instantiate\n",
    "scaler = StandardScaler()\n",
    "\n",
    "# fit_transform\n",
    "rfm_df_scaled = scaler.fit_transform(rfm_df)\n",
    "rfm_df_scaled.shape"
   ],
   "execution_count": 23,
   "outputs": [
    {
     "data": {
      "text/plain": "(319, 3)"
     },
     "execution_count": 23,
     "metadata": {},
     "output_type": "execute_result"
    }
   ]
  },
  {
   "cell_type": "code",
   "metadata": {
    "id": "PoIypCBHtTEi",
    "colab_type": "code",
    "outputId": "d41ffe1c-90ae-4bd9-80a1-ef9a78c628c3",
    "executionInfo": {
     "status": "ok",
     "timestamp": 1577038377668,
     "user_tz": -330,
     "elapsed": 825,
     "user": {
      "displayName": "StormlightX",
      "photoUrl": "https://lh3.googleusercontent.com/a-/AAuE7mA7ffNh8zYCrByq7g6_RvAY6-iNKnGtjnQd5jEkklA=s64",
      "userId": "04862885639735295114"
     }
    },
    "colab": {
     "base_uri": "https://localhost:8080/",
     "height": 204
    },
    "ExecuteTime": {
     "end_time": "2024-01-28T06:07:16.364541Z",
     "start_time": "2024-01-28T06:07:16.301888100Z"
    }
   },
   "source": [
    "rfm_df_scaled = pd.DataFrame(rfm_df_scaled)\n",
    "rfm_df_scaled.columns = ['Amount', 'Frequency', 'Recency']\n",
    "rfm_df_scaled.head()"
   ],
   "execution_count": 24,
   "outputs": [
    {
     "data": {
      "text/plain": "     Amount  Frequency   Recency\n0 -0.063232  -0.451137 -0.845361\n1 -0.163556  -0.534179 -0.153899\n2 -0.034619  -0.368094  1.229024\n3  3.641320   2.081660  1.229024\n4 -0.918343  -0.907871  0.537563",
      "text/html": "<div>\n<style scoped>\n    .dataframe tbody tr th:only-of-type {\n        vertical-align: middle;\n    }\n\n    .dataframe tbody tr th {\n        vertical-align: top;\n    }\n\n    .dataframe thead th {\n        text-align: right;\n    }\n</style>\n<table border=\"1\" class=\"dataframe\">\n  <thead>\n    <tr style=\"text-align: right;\">\n      <th></th>\n      <th>Amount</th>\n      <th>Frequency</th>\n      <th>Recency</th>\n    </tr>\n  </thead>\n  <tbody>\n    <tr>\n      <th>0</th>\n      <td>-0.063232</td>\n      <td>-0.451137</td>\n      <td>-0.845361</td>\n    </tr>\n    <tr>\n      <th>1</th>\n      <td>-0.163556</td>\n      <td>-0.534179</td>\n      <td>-0.153899</td>\n    </tr>\n    <tr>\n      <th>2</th>\n      <td>-0.034619</td>\n      <td>-0.368094</td>\n      <td>1.229024</td>\n    </tr>\n    <tr>\n      <th>3</th>\n      <td>3.641320</td>\n      <td>2.081660</td>\n      <td>1.229024</td>\n    </tr>\n    <tr>\n      <th>4</th>\n      <td>-0.918343</td>\n      <td>-0.907871</td>\n      <td>0.537563</td>\n    </tr>\n  </tbody>\n</table>\n</div>"
     },
     "execution_count": 24,
     "metadata": {},
     "output_type": "execute_result"
    }
   ]
  },
  {
   "cell_type": "markdown",
   "metadata": {
    "id": "q_FVPXhGtTEm",
    "colab_type": "text"
   },
   "source": [
    "<a id=\"4\"></a> <br>\n",
    "## Step 4 : Building the Model"
   ]
  },
  {
   "cell_type": "markdown",
   "metadata": {
    "id": "uUdHOXrbtTEn",
    "colab_type": "text"
   },
   "source": [
    "### K-Means Clustering"
   ]
  },
  {
   "cell_type": "markdown",
   "metadata": {
    "id": "_EdF_lVPtTEo",
    "colab_type": "text"
   },
   "source": [
    "K-means clustering is one of the simplest and popular unsupervised machine learning algorithms.<br>\n",
    "\n",
    "The algorithm works as follows:\n",
    "\n",
    "- First we initialize k points, called means, randomly.\n",
    "- We categorize each item to its closest mean and we update the mean’s coordinates, which are the averages of the items categorized in that mean so far.\n",
    "- We repeat the process for a given number of iterations and at the end, we have our clusters."
   ]
  },
  {
   "cell_type": "code",
   "metadata": {
    "id": "UwXYZZ8AtTEp",
    "colab_type": "code",
    "outputId": "b3b5d748-d782-4154-9399-249526f414a0",
    "executionInfo": {
     "status": "ok",
     "timestamp": 1577038381539,
     "user_tz": -330,
     "elapsed": 3567,
     "user": {
      "displayName": "StormlightX",
      "photoUrl": "https://lh3.googleusercontent.com/a-/AAuE7mA7ffNh8zYCrByq7g6_RvAY6-iNKnGtjnQd5jEkklA=s64",
      "userId": "04862885639735295114"
     }
    },
    "colab": {
     "base_uri": "https://localhost:8080/",
     "height": 68
    },
    "ExecuteTime": {
     "end_time": "2024-01-28T06:07:20.741832500Z",
     "start_time": "2024-01-28T06:07:20.394246300Z"
    }
   },
   "source": [
    "# k-means with some arbitrary k\n",
    "\n",
    "kmeans = KMeans(n_clusters=4, max_iter=50)\n",
    "kmeans.fit(rfm_df_scaled)"
   ],
   "execution_count": 25,
   "outputs": [
    {
     "name": "stderr",
     "output_type": "stream",
     "text": [
      "C:\\Users\\Shadab Khan\\OneDrive\\Documents\\Major Project\\venv\\lib\\site-packages\\sklearn\\cluster\\_kmeans.py:1416: FutureWarning: The default value of `n_init` will change from 10 to 'auto' in 1.4. Set the value of `n_init` explicitly to suppress the warning\n",
      "  super()._check_params_vs_input(X, default_n_init=10)\n"
     ]
    },
    {
     "data": {
      "text/plain": "KMeans(max_iter=50, n_clusters=4)",
      "text/html": "<style>#sk-container-id-1 {color: black;}#sk-container-id-1 pre{padding: 0;}#sk-container-id-1 div.sk-toggleable {background-color: white;}#sk-container-id-1 label.sk-toggleable__label {cursor: pointer;display: block;width: 100%;margin-bottom: 0;padding: 0.3em;box-sizing: border-box;text-align: center;}#sk-container-id-1 label.sk-toggleable__label-arrow:before {content: \"▸\";float: left;margin-right: 0.25em;color: #696969;}#sk-container-id-1 label.sk-toggleable__label-arrow:hover:before {color: black;}#sk-container-id-1 div.sk-estimator:hover label.sk-toggleable__label-arrow:before {color: black;}#sk-container-id-1 div.sk-toggleable__content {max-height: 0;max-width: 0;overflow: hidden;text-align: left;background-color: #f0f8ff;}#sk-container-id-1 div.sk-toggleable__content pre {margin: 0.2em;color: black;border-radius: 0.25em;background-color: #f0f8ff;}#sk-container-id-1 input.sk-toggleable__control:checked~div.sk-toggleable__content {max-height: 200px;max-width: 100%;overflow: auto;}#sk-container-id-1 input.sk-toggleable__control:checked~label.sk-toggleable__label-arrow:before {content: \"▾\";}#sk-container-id-1 div.sk-estimator input.sk-toggleable__control:checked~label.sk-toggleable__label {background-color: #d4ebff;}#sk-container-id-1 div.sk-label input.sk-toggleable__control:checked~label.sk-toggleable__label {background-color: #d4ebff;}#sk-container-id-1 input.sk-hidden--visually {border: 0;clip: rect(1px 1px 1px 1px);clip: rect(1px, 1px, 1px, 1px);height: 1px;margin: -1px;overflow: hidden;padding: 0;position: absolute;width: 1px;}#sk-container-id-1 div.sk-estimator {font-family: monospace;background-color: #f0f8ff;border: 1px dotted black;border-radius: 0.25em;box-sizing: border-box;margin-bottom: 0.5em;}#sk-container-id-1 div.sk-estimator:hover {background-color: #d4ebff;}#sk-container-id-1 div.sk-parallel-item::after {content: \"\";width: 100%;border-bottom: 1px solid gray;flex-grow: 1;}#sk-container-id-1 div.sk-label:hover label.sk-toggleable__label {background-color: #d4ebff;}#sk-container-id-1 div.sk-serial::before {content: \"\";position: absolute;border-left: 1px solid gray;box-sizing: border-box;top: 0;bottom: 0;left: 50%;z-index: 0;}#sk-container-id-1 div.sk-serial {display: flex;flex-direction: column;align-items: center;background-color: white;padding-right: 0.2em;padding-left: 0.2em;position: relative;}#sk-container-id-1 div.sk-item {position: relative;z-index: 1;}#sk-container-id-1 div.sk-parallel {display: flex;align-items: stretch;justify-content: center;background-color: white;position: relative;}#sk-container-id-1 div.sk-item::before, #sk-container-id-1 div.sk-parallel-item::before {content: \"\";position: absolute;border-left: 1px solid gray;box-sizing: border-box;top: 0;bottom: 0;left: 50%;z-index: -1;}#sk-container-id-1 div.sk-parallel-item {display: flex;flex-direction: column;z-index: 1;position: relative;background-color: white;}#sk-container-id-1 div.sk-parallel-item:first-child::after {align-self: flex-end;width: 50%;}#sk-container-id-1 div.sk-parallel-item:last-child::after {align-self: flex-start;width: 50%;}#sk-container-id-1 div.sk-parallel-item:only-child::after {width: 0;}#sk-container-id-1 div.sk-dashed-wrapped {border: 1px dashed gray;margin: 0 0.4em 0.5em 0.4em;box-sizing: border-box;padding-bottom: 0.4em;background-color: white;}#sk-container-id-1 div.sk-label label {font-family: monospace;font-weight: bold;display: inline-block;line-height: 1.2em;}#sk-container-id-1 div.sk-label-container {text-align: center;}#sk-container-id-1 div.sk-container {/* jupyter's `normalize.less` sets `[hidden] { display: none; }` but bootstrap.min.css set `[hidden] { display: none !important; }` so we also need the `!important` here to be able to override the default hidden behavior on the sphinx rendered scikit-learn.org. See: https://github.com/scikit-learn/scikit-learn/issues/21755 */display: inline-block !important;position: relative;}#sk-container-id-1 div.sk-text-repr-fallback {display: none;}</style><div id=\"sk-container-id-1\" class=\"sk-top-container\"><div class=\"sk-text-repr-fallback\"><pre>KMeans(max_iter=50, n_clusters=4)</pre><b>In a Jupyter environment, please rerun this cell to show the HTML representation or trust the notebook. <br />On GitHub, the HTML representation is unable to render, please try loading this page with nbviewer.org.</b></div><div class=\"sk-container\" hidden><div class=\"sk-item\"><div class=\"sk-estimator sk-toggleable\"><input class=\"sk-toggleable__control sk-hidden--visually\" id=\"sk-estimator-id-1\" type=\"checkbox\" checked><label for=\"sk-estimator-id-1\" class=\"sk-toggleable__label sk-toggleable__label-arrow\">KMeans</label><div class=\"sk-toggleable__content\"><pre>KMeans(max_iter=50, n_clusters=4)</pre></div></div></div></div></div>"
     },
     "execution_count": 25,
     "metadata": {},
     "output_type": "execute_result"
    }
   ]
  },
  {
   "cell_type": "code",
   "metadata": {
    "id": "Y1MD1lGdtTEs",
    "colab_type": "code",
    "outputId": "feaa8cf6-31ba-4cb1-9490-b606ea9238be",
    "executionInfo": {
     "status": "ok",
     "timestamp": 1577038381541,
     "user_tz": -330,
     "elapsed": 3445,
     "user": {
      "displayName": "StormlightX",
      "photoUrl": "https://lh3.googleusercontent.com/a-/AAuE7mA7ffNh8zYCrByq7g6_RvAY6-iNKnGtjnQd5jEkklA=s64",
      "userId": "04862885639735295114"
     }
    },
    "colab": {
     "base_uri": "https://localhost:8080/",
     "height": 34
    },
    "ExecuteTime": {
     "end_time": "2024-01-28T06:07:22.045483Z",
     "start_time": "2024-01-28T06:07:21.963797100Z"
    }
   },
   "source": [
    "kmeans.labels_"
   ],
   "execution_count": 26,
   "outputs": [
    {
     "data": {
      "text/plain": "array([3, 1, 1, 0, 1, 0, 1, 0, 1, 1, 3, 1, 1, 1, 1, 3, 1, 1, 3, 2, 3, 1,\n       1, 1, 2, 3, 1, 1, 1, 1, 1, 0, 1, 1, 0, 3, 1, 1, 3, 0, 3, 1, 1, 1,\n       1, 1, 1, 2, 1, 3, 1, 1, 2, 1, 0, 1, 1, 1, 1, 3, 1, 1, 3, 1, 1, 1,\n       1, 1, 1, 0, 1, 3, 3, 0, 1, 1, 0, 1, 1, 1, 1, 2, 2, 1, 1, 1, 1, 3,\n       1, 1, 1, 1, 1, 1, 2, 1, 1, 1, 1, 3, 1, 2, 1, 1, 1, 3, 3, 2, 1, 1,\n       1, 2, 1, 1, 0, 1, 1, 2, 2, 1, 1, 1, 3, 3, 3, 1, 1, 1, 1, 1, 0, 2,\n       3, 3, 1, 1, 1, 1, 1, 1, 3, 3, 1, 1, 1, 0, 2, 0, 1, 3, 1, 1, 1, 2,\n       3, 1, 3, 1, 2, 1, 3, 3, 3, 2, 2, 1, 1, 1, 1, 1, 3, 3, 1, 1, 1, 1,\n       2, 1, 1, 1, 1, 2, 3, 2, 2, 3, 1, 1, 3, 1, 1, 0, 3, 1, 1, 1, 1, 3,\n       1, 3, 1, 1, 0, 1, 3, 2, 1, 2, 2, 3, 3, 3, 3, 0, 3, 1, 1, 1, 1, 1,\n       1, 1, 1, 3, 1, 1, 0, 1, 1, 3, 1, 3, 1, 2, 1, 2, 1, 1, 3, 1, 3, 1,\n       1, 1, 3, 2, 3, 1, 1, 1, 2, 3, 1, 1, 2, 3, 1, 1, 1, 1, 1, 3, 1, 1,\n       1, 0, 1, 1, 1, 1, 1, 1, 1, 1, 1, 1, 1, 1, 1, 1, 3, 1, 0, 1, 1, 2,\n       1, 3, 3, 1, 1, 1, 1, 2, 2, 1, 1, 0, 1, 1, 1, 1, 3, 2, 2, 2, 1, 2,\n       3, 1, 1, 3, 2, 1, 3, 1, 1, 1, 1])"
     },
     "execution_count": 26,
     "metadata": {},
     "output_type": "execute_result"
    }
   ]
  },
  {
   "cell_type": "markdown",
   "metadata": {
    "id": "sbYYZyj4tTEw",
    "colab_type": "text"
   },
   "source": [
    "### Finding the Optimal Number of Clusters"
   ]
  },
  {
   "cell_type": "markdown",
   "metadata": {
    "id": "XYsdSTWutTEx",
    "colab_type": "text"
   },
   "source": [
    "#### Elbow Curve to get the right number of Clusters\n",
    "A fundamental step for any unsupervised algorithm is to determine the optimal number of clusters into which the data may be clustered. The Elbow Method is one of the most popular methods to determine this optimal value of k."
   ]
  },
  {
   "cell_type": "code",
   "metadata": {
    "id": "pvFDeAbbtTEy",
    "colab_type": "code",
    "outputId": "01d1d695-4c06-4eab-97ad-becfa799a4be",
    "executionInfo": {
     "status": "ok",
     "timestamp": 1577038384045,
     "user_tz": -330,
     "elapsed": 5648,
     "user": {
      "displayName": "StormlightX",
      "photoUrl": "https://lh3.googleusercontent.com/a-/AAuE7mA7ffNh8zYCrByq7g6_RvAY6-iNKnGtjnQd5jEkklA=s64",
      "userId": "04862885639735295114"
     }
    },
    "colab": {
     "base_uri": "https://localhost:8080/",
     "height": 500
    },
    "ExecuteTime": {
     "end_time": "2024-01-28T06:18:54.454901400Z",
     "start_time": "2024-01-28T06:18:53.794148300Z"
    }
   },
   "source": [
    "# Elbow-curve/SSD\n",
    "\n",
    "ssd = []\n",
    "range_n_clusters = [1, 2, 3, 4, 5, 6, 7, 8]\n",
    "for num_clusters in range_n_clusters:\n",
    "    kmeans = KMeans(n_clusters=num_clusters, max_iter=50)\n",
    "    kmeans.fit(rfm_df_scaled)\n",
    "\n",
    "    ssd.append(kmeans.inertia_)\n",
    "\n",
    "# plot the SSDs for each n_clusters\n",
    "plt.plot(range_n_clusters, ssd, 'ro-')"
   ],
   "execution_count": 44,
   "outputs": [
    {
     "name": "stderr",
     "output_type": "stream",
     "text": [
      "C:\\Users\\Shadab Khan\\OneDrive\\Documents\\Major Project\\venv\\lib\\site-packages\\sklearn\\cluster\\_kmeans.py:1416: FutureWarning: The default value of `n_init` will change from 10 to 'auto' in 1.4. Set the value of `n_init` explicitly to suppress the warning\n",
      "  super()._check_params_vs_input(X, default_n_init=10)\n",
      "C:\\Users\\Shadab Khan\\OneDrive\\Documents\\Major Project\\venv\\lib\\site-packages\\sklearn\\cluster\\_kmeans.py:1416: FutureWarning: The default value of `n_init` will change from 10 to 'auto' in 1.4. Set the value of `n_init` explicitly to suppress the warning\n",
      "  super()._check_params_vs_input(X, default_n_init=10)\n",
      "C:\\Users\\Shadab Khan\\OneDrive\\Documents\\Major Project\\venv\\lib\\site-packages\\sklearn\\cluster\\_kmeans.py:1416: FutureWarning: The default value of `n_init` will change from 10 to 'auto' in 1.4. Set the value of `n_init` explicitly to suppress the warning\n",
      "  super()._check_params_vs_input(X, default_n_init=10)\n",
      "C:\\Users\\Shadab Khan\\OneDrive\\Documents\\Major Project\\venv\\lib\\site-packages\\sklearn\\cluster\\_kmeans.py:1416: FutureWarning: The default value of `n_init` will change from 10 to 'auto' in 1.4. Set the value of `n_init` explicitly to suppress the warning\n",
      "  super()._check_params_vs_input(X, default_n_init=10)\n",
      "C:\\Users\\Shadab Khan\\OneDrive\\Documents\\Major Project\\venv\\lib\\site-packages\\sklearn\\cluster\\_kmeans.py:1416: FutureWarning: The default value of `n_init` will change from 10 to 'auto' in 1.4. Set the value of `n_init` explicitly to suppress the warning\n",
      "  super()._check_params_vs_input(X, default_n_init=10)\n",
      "C:\\Users\\Shadab Khan\\OneDrive\\Documents\\Major Project\\venv\\lib\\site-packages\\sklearn\\cluster\\_kmeans.py:1416: FutureWarning: The default value of `n_init` will change from 10 to 'auto' in 1.4. Set the value of `n_init` explicitly to suppress the warning\n",
      "  super()._check_params_vs_input(X, default_n_init=10)\n",
      "C:\\Users\\Shadab Khan\\OneDrive\\Documents\\Major Project\\venv\\lib\\site-packages\\sklearn\\cluster\\_kmeans.py:1416: FutureWarning: The default value of `n_init` will change from 10 to 'auto' in 1.4. Set the value of `n_init` explicitly to suppress the warning\n",
      "  super()._check_params_vs_input(X, default_n_init=10)\n",
      "C:\\Users\\Shadab Khan\\OneDrive\\Documents\\Major Project\\venv\\lib\\site-packages\\sklearn\\cluster\\_kmeans.py:1416: FutureWarning: The default value of `n_init` will change from 10 to 'auto' in 1.4. Set the value of `n_init` explicitly to suppress the warning\n",
      "  super()._check_params_vs_input(X, default_n_init=10)\n"
     ]
    },
    {
     "data": {
      "text/plain": "[<matplotlib.lines.Line2D at 0x168ff03b3a0>]"
     },
     "execution_count": 44,
     "metadata": {},
     "output_type": "execute_result"
    },
    {
     "data": {
      "text/plain": "<Figure size 1000x800 with 1 Axes>",
      "image/png": "[encoded data removed]"
     },
     "metadata": {},
     "output_type": "display_data"
    }
   ]
  },
  {
   "cell_type": "markdown",
   "metadata": {
    "id": "2DER7CnhtTE1",
    "colab_type": "text"
   },
   "source": [
    "### Silhouette Analysis\n",
    "\n",
    "$$\\text{silhouette score}=\\frac{p-q}{max(p,q)}$$\n",
    "\n",
    "$p$ is the mean distance to the points in the nearest cluster that the data point is not a part of\n",
    "\n",
    "$q$ is the mean intra-cluster distance to all the points in its own cluster.\n",
    "\n",
    "* The value of the silhouette score range lies between -1 to 1. \n",
    "\n",
    "* A score closer to 1 indicates that the data point is very similar to other data points in the cluster, \n",
    "\n",
    "* A score closer to -1 indicates that the data point is not similar to the data points in its cluster."
   ]
  },
  {
   "cell_type": "code",
   "metadata": {
    "id": "bh8pkeLwtTE2",
    "colab_type": "code",
    "outputId": "190db69e-a216-4755-86a4-854bc365ca77",
    "executionInfo": {
     "status": "ok",
     "timestamp": 1577038386889,
     "user_tz": -330,
     "elapsed": 8195,
     "user": {
      "displayName": "StormlightX",
      "photoUrl": "https://lh3.googleusercontent.com/a-/AAuE7mA7ffNh8zYCrByq7g6_RvAY6-iNKnGtjnQd5jEkklA=s64",
      "userId": "04862885639735295114"
     }
    },
    "colab": {
     "base_uri": "https://localhost:8080/",
     "height": 136
    },
    "ExecuteTime": {
     "end_time": "2024-01-28T06:18:55.393049Z",
     "start_time": "2024-01-28T06:18:54.811425700Z"
    }
   },
   "source": [
    "# Silhouette analysis\n",
    "range_n_clusters = [2, 3, 4, 5, 6, 7, 8]\n",
    "\n",
    "for num_clusters in range_n_clusters:\n",
    "    # intialise kmeans\n",
    "    kmeans = KMeans(n_clusters=num_clusters, max_iter=50)\n",
    "    kmeans.fit(rfm_df_scaled)\n",
    "\n",
    "    cluster_labels = kmeans.labels_\n",
    "\n",
    "    # silhouette score\n",
    "    silhouette_avg = silhouette_score(rfm_df_scaled, cluster_labels)\n",
    "    print(\"For n_clusters={0}, the silhouette score is {1}\".format(num_clusters, silhouette_avg))\n",
    "\n"
   ],
   "execution_count": 45,
   "outputs": [
    {
     "name": "stderr",
     "output_type": "stream",
     "text": [
      "C:\\Users\\Shadab Khan\\OneDrive\\Documents\\Major Project\\venv\\lib\\site-packages\\sklearn\\cluster\\_kmeans.py:1416: FutureWarning: The default value of `n_init` will change from 10 to 'auto' in 1.4. Set the value of `n_init` explicitly to suppress the warning\n",
      "  super()._check_params_vs_input(X, default_n_init=10)\n",
      "C:\\Users\\Shadab Khan\\OneDrive\\Documents\\Major Project\\venv\\lib\\site-packages\\sklearn\\cluster\\_kmeans.py:1416: FutureWarning: The default value of `n_init` will change from 10 to 'auto' in 1.4. Set the value of `n_init` explicitly to suppress the warning\n",
      "  super()._check_params_vs_input(X, default_n_init=10)\n",
      "C:\\Users\\Shadab Khan\\OneDrive\\Documents\\Major Project\\venv\\lib\\site-packages\\sklearn\\cluster\\_kmeans.py:1416: FutureWarning: The default value of `n_init` will change from 10 to 'auto' in 1.4. Set the value of `n_init` explicitly to suppress the warning\n",
      "  super()._check_params_vs_input(X, default_n_init=10)\n",
      "C:\\Users\\Shadab Khan\\OneDrive\\Documents\\Major Project\\venv\\lib\\site-packages\\sklearn\\cluster\\_kmeans.py:1416: FutureWarning: The default value of `n_init` will change from 10 to 'auto' in 1.4. Set the value of `n_init` explicitly to suppress the warning\n",
      "  super()._check_params_vs_input(X, default_n_init=10)\n",
      "C:\\Users\\Shadab Khan\\OneDrive\\Documents\\Major Project\\venv\\lib\\site-packages\\sklearn\\cluster\\_kmeans.py:1416: FutureWarning: The default value of `n_init` will change from 10 to 'auto' in 1.4. Set the value of `n_init` explicitly to suppress the warning\n",
      "  super()._check_params_vs_input(X, default_n_init=10)\n"
     ]
    },
    {
     "name": "stdout",
     "output_type": "stream",
     "text": [
      "For n_clusters=2, the silhouette score is 0.4187241098579193\n",
      "For n_clusters=3, the silhouette score is 0.4543231555133118\n",
      "For n_clusters=4, the silhouette score is 0.4674114196499948\n",
      "For n_clusters=5, the silhouette score is 0.3364797823168139\n",
      "For n_clusters=6, the silhouette score is 0.3615803856265093\n",
      "For n_clusters=7, the silhouette score is 0.3679083317128012\n",
      "For n_clusters=8, the silhouette score is 0.3657218941799959\n"
     ]
    },
    {
     "name": "stderr",
     "output_type": "stream",
     "text": [
      "C:\\Users\\Shadab Khan\\OneDrive\\Documents\\Major Project\\venv\\lib\\site-packages\\sklearn\\cluster\\_kmeans.py:1416: FutureWarning: The default value of `n_init` will change from 10 to 'auto' in 1.4. Set the value of `n_init` explicitly to suppress the warning\n",
      "  super()._check_params_vs_input(X, default_n_init=10)\n",
      "C:\\Users\\Shadab Khan\\OneDrive\\Documents\\Major Project\\venv\\lib\\site-packages\\sklearn\\cluster\\_kmeans.py:1416: FutureWarning: The default value of `n_init` will change from 10 to 'auto' in 1.4. Set the value of `n_init` explicitly to suppress the warning\n",
      "  super()._check_params_vs_input(X, default_n_init=10)\n"
     ]
    }
   ]
  },
  {
   "cell_type": "code",
   "metadata": {
    "id": "XJQZkcIdtTE6",
    "colab_type": "code",
    "outputId": "00409009-c210-4b7b-94cf-46b469885f3b",
    "executionInfo": {
     "status": "ok",
     "timestamp": 1577039458196,
     "user_tz": -330,
     "elapsed": 1105,
     "user": {
      "displayName": "StormlightX",
      "photoUrl": "https://lh3.googleusercontent.com/a-/AAuE7mA7ffNh8zYCrByq7g6_RvAY6-iNKnGtjnQd5jEkklA=s64",
      "userId": "04862885639735295114"
     }
    },
    "colab": {
     "base_uri": "https://localhost:8080/",
     "height": 68
    },
    "ExecuteTime": {
     "end_time": "2024-01-28T06:18:55.464356Z",
     "start_time": "2024-01-28T06:18:55.212999400Z"
    }
   },
   "source": [
    "# Final model with k=3\n",
    "kmeans = KMeans(n_clusters=3, max_iter=50)\n",
    "kmeans.fit(rfm_df_scaled)"
   ],
   "execution_count": 46,
   "outputs": [
    {
     "name": "stderr",
     "output_type": "stream",
     "text": [
      "C:\\Users\\Shadab Khan\\OneDrive\\Documents\\Major Project\\venv\\lib\\site-packages\\sklearn\\cluster\\_kmeans.py:1416: FutureWarning: The default value of `n_init` will change from 10 to 'auto' in 1.4. Set the value of `n_init` explicitly to suppress the warning\n",
      "  super()._check_params_vs_input(X, default_n_init=10)\n"
     ]
    },
    {
     "data": {
      "text/plain": "KMeans(max_iter=50, n_clusters=3)",
      "text/html": "<style>#sk-container-id-3 {color: black;}#sk-container-id-3 pre{padding: 0;}#sk-container-id-3 div.sk-toggleable {background-color: white;}#sk-container-id-3 label.sk-toggleable__label {cursor: pointer;display: block;width: 100%;margin-bottom: 0;padding: 0.3em;box-sizing: border-box;text-align: center;}#sk-container-id-3 label.sk-toggleable__label-arrow:before {content: \"▸\";float: left;margin-right: 0.25em;color: #696969;}#sk-container-id-3 label.sk-toggleable__label-arrow:hover:before {color: black;}#sk-container-id-3 div.sk-estimator:hover label.sk-toggleable__label-arrow:before {color: black;}#sk-container-id-3 div.sk-toggleable__content {max-height: 0;max-width: 0;overflow: hidden;text-align: left;background-color: #f0f8ff;}#sk-container-id-3 div.sk-toggleable__content pre {margin: 0.2em;color: black;border-radius: 0.25em;background-color: #f0f8ff;}#sk-container-id-3 input.sk-toggleable__control:checked~div.sk-toggleable__content {max-height: 200px;max-width: 100%;overflow: auto;}#sk-container-id-3 input.sk-toggleable__control:checked~label.sk-toggleable__label-arrow:before {content: \"▾\";}#sk-container-id-3 div.sk-estimator input.sk-toggleable__control:checked~label.sk-toggleable__label {background-color: #d4ebff;}#sk-container-id-3 div.sk-label input.sk-toggleable__control:checked~label.sk-toggleable__label {background-color: #d4ebff;}#sk-container-id-3 input.sk-hidden--visually {border: 0;clip: rect(1px 1px 1px 1px);clip: rect(1px, 1px, 1px, 1px);height: 1px;margin: -1px;overflow: hidden;padding: 0;position: absolute;width: 1px;}#sk-container-id-3 div.sk-estimator {font-family: monospace;background-color: #f0f8ff;border: 1px dotted black;border-radius: 0.25em;box-sizing: border-box;margin-bottom: 0.5em;}#sk-container-id-3 div.sk-estimator:hover {background-color: #d4ebff;}#sk-container-id-3 div.sk-parallel-item::after {content: \"\";width: 100%;border-bottom: 1px solid gray;flex-grow: 1;}#sk-container-id-3 div.sk-label:hover label.sk-toggleable__label {background-color: #d4ebff;}#sk-container-id-3 div.sk-serial::before {content: \"\";position: absolute;border-left: 1px solid gray;box-sizing: border-box;top: 0;bottom: 0;left: 50%;z-index: 0;}#sk-container-id-3 div.sk-serial {display: flex;flex-direction: column;align-items: center;background-color: white;padding-right: 0.2em;padding-left: 0.2em;position: relative;}#sk-container-id-3 div.sk-item {position: relative;z-index: 1;}#sk-container-id-3 div.sk-parallel {display: flex;align-items: stretch;justify-content: center;background-color: white;position: relative;}#sk-container-id-3 div.sk-item::before, #sk-container-id-3 div.sk-parallel-item::before {content: \"\";position: absolute;border-left: 1px solid gray;box-sizing: border-box;top: 0;bottom: 0;left: 50%;z-index: -1;}#sk-container-id-3 div.sk-parallel-item {display: flex;flex-direction: column;z-index: 1;position: relative;background-color: white;}#sk-container-id-3 div.sk-parallel-item:first-child::after {align-self: flex-end;width: 50%;}#sk-container-id-3 div.sk-parallel-item:last-child::after {align-self: flex-start;width: 50%;}#sk-container-id-3 div.sk-parallel-item:only-child::after {width: 0;}#sk-container-id-3 div.sk-dashed-wrapped {border: 1px dashed gray;margin: 0 0.4em 0.5em 0.4em;box-sizing: border-box;padding-bottom: 0.4em;background-color: white;}#sk-container-id-3 div.sk-label label {font-family: monospace;font-weight: bold;display: inline-block;line-height: 1.2em;}#sk-container-id-3 div.sk-label-container {text-align: center;}#sk-container-id-3 div.sk-container {/* jupyter's `normalize.less` sets `[hidden] { display: none; }` but bootstrap.min.css set `[hidden] { display: none !important; }` so we also need the `!important` here to be able to override the default hidden behavior on the sphinx rendered scikit-learn.org. See: https://github.com/scikit-learn/scikit-learn/issues/21755 */display: inline-block !important;position: relative;}#sk-container-id-3 div.sk-text-repr-fallback {display: none;}</style><div id=\"sk-container-id-3\" class=\"sk-top-container\"><div class=\"sk-text-repr-fallback\"><pre>KMeans(max_iter=50, n_clusters=3)</pre><b>In a Jupyter environment, please rerun this cell to show the HTML representation or trust the notebook. <br />On GitHub, the HTML representation is unable to render, please try loading this page with nbviewer.org.</b></div><div class=\"sk-container\" hidden><div class=\"sk-item\"><div class=\"sk-estimator sk-toggleable\"><input class=\"sk-toggleable__control sk-hidden--visually\" id=\"sk-estimator-id-3\" type=\"checkbox\" checked><label for=\"sk-estimator-id-3\" class=\"sk-toggleable__label sk-toggleable__label-arrow\">KMeans</label><div class=\"sk-toggleable__content\"><pre>KMeans(max_iter=50, n_clusters=3)</pre></div></div></div></div></div>"
     },
     "execution_count": 46,
     "metadata": {},
     "output_type": "execute_result"
    }
   ]
  },
  {
   "cell_type": "code",
   "outputs": [
    {
     "data": {
      "text/plain": "['kmeans.pkl']"
     },
     "execution_count": 47,
     "metadata": {},
     "output_type": "execute_result"
    }
   ],
   "source": [
    "import joblib\n",
    "\n",
    "joblib.dump(kmeans, 'kmeans.pkl')"
   ],
   "metadata": {
    "collapsed": false,
    "ExecuteTime": {
     "end_time": "2024-01-28T06:18:55.874470400Z",
     "start_time": "2024-01-28T06:18:55.514430300Z"
    }
   },
   "execution_count": 47
  },
  {
   "cell_type": "code",
   "metadata": {
    "id": "Kb5OsSbAtTE9",
    "colab_type": "code",
    "outputId": "ea7f1244-4c49-4340-efe4-72005832a580",
    "executionInfo": {
     "status": "ok",
     "timestamp": 1577039378191,
     "user_tz": -330,
     "elapsed": 1110,
     "user": {
      "displayName": "StormlightX",
      "photoUrl": "https://lh3.googleusercontent.com/a-/AAuE7mA7ffNh8zYCrByq7g6_RvAY6-iNKnGtjnQd5jEkklA=s64",
      "userId": "04862885639735295114"
     }
    },
    "colab": {
     "base_uri": "https://localhost:8080/",
     "height": 34
    },
    "ExecuteTime": {
     "end_time": "2024-01-28T06:18:56.096280700Z",
     "start_time": "2024-01-28T06:18:55.893505900Z"
    }
   },
   "source": [
    "kmeans.predict(rfm_df_scaled[0:10])"
   ],
   "execution_count": 48,
   "outputs": [
    {
     "data": {
      "text/plain": "array([1, 0, 0, 2, 0, 2, 0, 2, 0, 0])"
     },
     "execution_count": 48,
     "metadata": {},
     "output_type": "execute_result"
    }
   ]
  },
  {
   "cell_type": "code",
   "metadata": {
    "id": "QhUyEIi9tTFB",
    "colab_type": "code",
    "outputId": "1a07d6ca-6d71-4557-fd15-9dce4c27002c",
    "executionInfo": {
     "status": "ok",
     "timestamp": 1577039495025,
     "user_tz": -330,
     "elapsed": 1121,
     "user": {
      "displayName": "StormlightX",
      "photoUrl": "https://lh3.googleusercontent.com/a-/AAuE7mA7ffNh8zYCrByq7g6_RvAY6-iNKnGtjnQd5jEkklA=s64",
      "userId": "04862885639735295114"
     }
    },
    "colab": {
     "base_uri": "https://localhost:8080/",
     "height": 669
    },
    "ExecuteTime": {
     "end_time": "2024-01-28T06:18:56.292526900Z",
     "start_time": "2024-01-28T06:18:56.023106600Z"
    }
   },
   "source": [
    "# assign the label\n",
    "rfm['Cluster_Id'] = kmeans.labels_\n",
    "rfm.sort_values(by='Recency').tail(20)"
   ],
   "execution_count": 49,
   "outputs": [
    {
     "data": {
      "text/plain": "    CustomerID   Amount  Frequency  Recency  Cluster_Id  Cluster_Labels\n30     12947.0   304.04         17        4           0               0\n275    17643.0   101.55          8        4           0               0\n159    15513.0   357.00          3        4           0               0\n273    17572.0    70.80          4        4           0               0\n160    15525.0   313.93         57        4           0               0\n270    17548.0  -141.48          7        4           0               0\n268    17511.0  1825.74         24        4           2               0\n266    17420.0   130.85          7        4           0               0\n48     13255.0   225.70          6        4           0               0\n209    16250.0   226.14         14        4           0               0\n261    17377.0   223.90         15        4           0               0\n260    17346.0   146.61         35        4           0               0\n36     13047.0   366.63         17        4           0               0\n95     14307.0   783.11         48        4           0               0\n42     13093.0   799.40         13        4           0               0\n252    17181.0   155.52          2        4           0               0\n93     14237.0   161.00          9        4           0               0\n246    17025.0   160.97          5        4           0               0\n167    15605.0   194.85         12        4           0               0\n224    16583.0   233.45         14        4           0               0",
      "text/html": "<div>\n<style scoped>\n    .dataframe tbody tr th:only-of-type {\n        vertical-align: middle;\n    }\n\n    .dataframe tbody tr th {\n        vertical-align: top;\n    }\n\n    .dataframe thead th {\n        text-align: right;\n    }\n</style>\n<table border=\"1\" class=\"dataframe\">\n  <thead>\n    <tr style=\"text-align: right;\">\n      <th></th>\n      <th>CustomerID</th>\n      <th>Amount</th>\n      <th>Frequency</th>\n      <th>Recency</th>\n      <th>Cluster_Id</th>\n      <th>Cluster_Labels</th>\n    </tr>\n  </thead>\n  <tbody>\n    <tr>\n      <th>30</th>\n      <td>12947.0</td>\n      <td>304.04</td>\n      <td>17</td>\n      <td>4</td>\n      <td>0</td>\n      <td>0</td>\n    </tr>\n    <tr>\n      <th>275</th>\n      <td>17643.0</td>\n      <td>101.55</td>\n      <td>8</td>\n      <td>4</td>\n      <td>0</td>\n      <td>0</td>\n    </tr>\n    <tr>\n      <th>159</th>\n      <td>15513.0</td>\n      <td>357.00</td>\n      <td>3</td>\n      <td>4</td>\n      <td>0</td>\n      <td>0</td>\n    </tr>\n    <tr>\n      <th>273</th>\n      <td>17572.0</td>\n      <td>70.80</td>\n      <td>4</td>\n      <td>4</td>\n      <td>0</td>\n      <td>0</td>\n    </tr>\n    <tr>\n      <th>160</th>\n      <td>15525.0</td>\n      <td>313.93</td>\n      <td>57</td>\n      <td>4</td>\n      <td>0</td>\n      <td>0</td>\n    </tr>\n    <tr>\n      <th>270</th>\n      <td>17548.0</td>\n      <td>-141.48</td>\n      <td>7</td>\n      <td>4</td>\n      <td>0</td>\n      <td>0</td>\n    </tr>\n    <tr>\n      <th>268</th>\n      <td>17511.0</td>\n      <td>1825.74</td>\n      <td>24</td>\n      <td>4</td>\n      <td>2</td>\n      <td>0</td>\n    </tr>\n    <tr>\n      <th>266</th>\n      <td>17420.0</td>\n      <td>130.85</td>\n      <td>7</td>\n      <td>4</td>\n      <td>0</td>\n      <td>0</td>\n    </tr>\n    <tr>\n      <th>48</th>\n      <td>13255.0</td>\n      <td>225.70</td>\n      <td>6</td>\n      <td>4</td>\n      <td>0</td>\n      <td>0</td>\n    </tr>\n    <tr>\n      <th>209</th>\n      <td>16250.0</td>\n      <td>226.14</td>\n      <td>14</td>\n      <td>4</td>\n      <td>0</td>\n      <td>0</td>\n    </tr>\n    <tr>\n      <th>261</th>\n      <td>17377.0</td>\n      <td>223.90</td>\n      <td>15</td>\n      <td>4</td>\n      <td>0</td>\n      <td>0</td>\n    </tr>\n    <tr>\n      <th>260</th>\n      <td>17346.0</td>\n      <td>146.61</td>\n      <td>35</td>\n      <td>4</td>\n      <td>0</td>\n      <td>0</td>\n    </tr>\n    <tr>\n      <th>36</th>\n      <td>13047.0</td>\n      <td>366.63</td>\n      <td>17</td>\n      <td>4</td>\n      <td>0</td>\n      <td>0</td>\n    </tr>\n    <tr>\n      <th>95</th>\n      <td>14307.0</td>\n      <td>783.11</td>\n      <td>48</td>\n      <td>4</td>\n      <td>0</td>\n      <td>0</td>\n    </tr>\n    <tr>\n      <th>42</th>\n      <td>13093.0</td>\n      <td>799.40</td>\n      <td>13</td>\n      <td>4</td>\n      <td>0</td>\n      <td>0</td>\n    </tr>\n    <tr>\n      <th>252</th>\n      <td>17181.0</td>\n      <td>155.52</td>\n      <td>2</td>\n      <td>4</td>\n      <td>0</td>\n      <td>0</td>\n    </tr>\n    <tr>\n      <th>93</th>\n      <td>14237.0</td>\n      <td>161.00</td>\n      <td>9</td>\n      <td>4</td>\n      <td>0</td>\n      <td>0</td>\n    </tr>\n    <tr>\n      <th>246</th>\n      <td>17025.0</td>\n      <td>160.97</td>\n      <td>5</td>\n      <td>4</td>\n      <td>0</td>\n      <td>0</td>\n    </tr>\n    <tr>\n      <th>167</th>\n      <td>15605.0</td>\n      <td>194.85</td>\n      <td>12</td>\n      <td>4</td>\n      <td>0</td>\n      <td>0</td>\n    </tr>\n    <tr>\n      <th>224</th>\n      <td>16583.0</td>\n      <td>233.45</td>\n      <td>14</td>\n      <td>4</td>\n      <td>0</td>\n      <td>0</td>\n    </tr>\n  </tbody>\n</table>\n</div>"
     },
     "execution_count": 49,
     "metadata": {},
     "output_type": "execute_result"
    }
   ]
  },
  {
   "cell_type": "code",
   "metadata": {
    "id": "6m0RbvfftTFF",
    "colab_type": "code",
    "outputId": "c3bfde42-425b-46bb-8185-4018eb664b68",
    "executionInfo": {
     "status": "ok",
     "timestamp": 1577038386895,
     "user_tz": -330,
     "elapsed": 7443,
     "user": {
      "displayName": "StormlightX",
      "photoUrl": "https://lh3.googleusercontent.com/a-/AAuE7mA7ffNh8zYCrByq7g6_RvAY6-iNKnGtjnQd5jEkklA=s64",
      "userId": "04862885639735295114"
     }
    },
    "colab": {
     "base_uri": "https://localhost:8080/",
     "height": 515
    },
    "ExecuteTime": {
     "end_time": "2024-01-28T06:18:57.070494Z",
     "start_time": "2024-01-28T06:18:56.434695300Z"
    }
   },
   "source": [
    "# Box plot to visualize Cluster Id vs Frequency\n",
    "sns.boxplot(x='Cluster_Id', y='Amount', data=rfm)"
   ],
   "execution_count": 50,
   "outputs": [
    {
     "data": {
      "text/plain": "<Axes: xlabel='Cluster_Id', ylabel='Amount'>"
     },
     "execution_count": 50,
     "metadata": {},
     "output_type": "execute_result"
    },
    {
     "data": {
      "text/plain": "<Figure size 1000x800 with 1 Axes>",
      "image/png": "[encoded data removed]"
     },
     "metadata": {},
     "output_type": "display_data"
    }
   ]
  },
  {
   "cell_type": "code",
   "metadata": {
    "id": "-j0CKkCjtTFI",
    "colab_type": "code",
    "outputId": "92bc514b-a9b7-4a45-be19-24af619122a9",
    "executionInfo": {
     "status": "ok",
     "timestamp": 1577038387472,
     "user_tz": -330,
     "elapsed": 7840,
     "user": {
      "displayName": "StormlightX",
      "photoUrl": "https://lh3.googleusercontent.com/a-/AAuE7mA7ffNh8zYCrByq7g6_RvAY6-iNKnGtjnQd5jEkklA=s64",
      "userId": "04862885639735295114"
     }
    },
    "colab": {
     "base_uri": "https://localhost:8080/",
     "height": 515
    },
    "ExecuteTime": {
     "end_time": "2024-01-28T06:18:57.521009600Z",
     "start_time": "2024-01-28T06:18:56.923823Z"
    }
   },
   "source": [
    "# Box plot to visualize Cluster Id vs Frequency\n",
    "\n",
    "sns.boxplot(x='Cluster_Id', y='Frequency', data=rfm)"
   ],
   "execution_count": 51,
   "outputs": [
    {
     "data": {
      "text/plain": "<Axes: xlabel='Cluster_Id', ylabel='Frequency'>"
     },
     "execution_count": 51,
     "metadata": {},
     "output_type": "execute_result"
    },
    {
     "data": {
      "text/plain": "<Figure size 1000x800 with 1 Axes>",
      "image/png": "[encoded data removed]"
     },
     "metadata": {},
     "output_type": "display_data"
    }
   ]
  },
  {
   "cell_type": "code",
   "metadata": {
    "id": "x6NWQN2stTFL",
    "colab_type": "code",
    "outputId": "bc079cdf-53e1-45fa-d438-b006e962e5cf",
    "executionInfo": {
     "status": "ok",
     "timestamp": 1577038387474,
     "user_tz": -330,
     "elapsed": 7710,
     "user": {
      "displayName": "StormlightX",
      "photoUrl": "https://lh3.googleusercontent.com/a-/AAuE7mA7ffNh8zYCrByq7g6_RvAY6-iNKnGtjnQd5jEkklA=s64",
      "userId": "04862885639735295114"
     }
    },
    "colab": {
     "base_uri": "https://localhost:8080/",
     "height": 515
    },
    "ExecuteTime": {
     "end_time": "2024-01-28T06:18:57.930950400Z",
     "start_time": "2024-01-28T06:18:57.498712Z"
    }
   },
   "source": [
    "# Box plot to visualize Cluster Id vs Recency\n",
    "\n",
    "sns.boxplot(x='Cluster_Id', y='Recency', data=rfm)"
   ],
   "execution_count": 52,
   "outputs": [
    {
     "data": {
      "text/plain": "<Axes: xlabel='Cluster_Id', ylabel='Recency'>"
     },
     "execution_count": 52,
     "metadata": {},
     "output_type": "execute_result"
    },
    {
     "data": {
      "text/plain": "<Figure size 1000x800 with 1 Axes>",
      "image/png": "[encoded data removed]"
     },
     "metadata": {},
     "output_type": "display_data"
    }
   ]
  },
  {
   "cell_type": "code",
   "outputs": [],
   "source": [
    "import pandas as pd\n",
    "import joblib\n",
    "from sklearn.cluster import AgglomerativeClustering\n",
    "\n",
    "\n"
   ],
   "metadata": {
    "collapsed": false,
    "ExecuteTime": {
     "end_time": "2024-03-09T10:10:11.377627700Z",
     "start_time": "2024-03-09T10:10:10.892258800Z"
    }
   },
   "execution_count": 1
  },
  {
   "cell_type": "code",
   "outputs": [],
   "source": [
    "def make_hierarchical_clustering(file_path, n_clusters=3):\n",
    "    df = pd.read_csv(file_path)\n",
    "\n",
    "    # Assuming you have a pre-trained hierarchical clustering model\n",
    "    hierarchical_clustering = joblib.load('hierarchical_clustering_trained.pkl')\n",
    "\n",
    "    X_train = df[['Amount', 'Frequency', 'Recency']]\n",
    "    clustering_labels = hierarchical_clustering.fit_predict(X_train)\n",
    "\n",
    "    hierarchical_dataset = X_train.copy()\n",
    "    hierarchical_dataset.loc[:, 'Cluster'] = clustering_labels\n",
    "\n",
    "    return hierarchical_dataset"
   ],
   "metadata": {
    "collapsed": false,
    "ExecuteTime": {
     "end_time": "2024-03-09T10:10:18.781083700Z",
     "start_time": "2024-03-09T10:10:18.708382600Z"
    }
   },
   "execution_count": 2
  },
  {
   "cell_type": "code",
   "outputs": [],
   "source": [],
   "metadata": {
    "collapsed": false,
    "ExecuteTime": {
     "end_time": "2024-03-09T10:14:14.789975700Z",
     "start_time": "2024-03-09T10:14:14.719609Z"
    }
   },
   "execution_count": 3
  },
  {
   "cell_type": "code",
   "outputs": [],
   "source": [],
   "metadata": {
    "collapsed": false
   }
  }
 ]
}
